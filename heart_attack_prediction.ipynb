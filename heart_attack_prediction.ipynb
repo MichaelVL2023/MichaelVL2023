{
  "cells": [
    {
      "cell_type": "markdown",
      "metadata": {
        "id": "view-in-github",
        "colab_type": "text"
      },
      "source": [
        "<a href=\"https://colab.research.google.com/github/MichaelVL2023/MichaelVL2023/blob/main/heart_attack_prediction.ipynb\" target=\"_parent\"><img src=\"https://colab.research.google.com/assets/colab-badge.svg\" alt=\"Open In Colab\"/></a>"
      ]
    },
    {
      "cell_type": "markdown",
      "metadata": {
        "id": "WI3b5M1OPDw4"
      },
      "source": [
        "## ♥🙂  **Modelo de Machine learning para la prediccion de riesgo de ataque cardiaco** ♥🙂"
      ]
    },
    {
      "cell_type": "markdown",
      "metadata": {
        "id": "pL29ITkOa9Dt"
      },
      "source": [
        "##**Importamos las librerias** 📊"
      ]
    },
    {
      "cell_type": "markdown",
      "metadata": {
        "id": "dc1UdpmGbAWd"
      },
      "source": [
        " Importamos librerías para análisis de datos, cálculos numéricos y gráficos."
      ]
    },
    {
      "cell_type": "code",
      "execution_count": null,
      "metadata": {
        "id": "KPMPxcUTZRhi"
      },
      "outputs": [],
      "source": [
        "import pandas as pd\n",
        "import numpy as np\n",
        "import matplotlib.pyplot as plt\n",
        "\n",
        "%matplotlib inline\n",
        "\n",
        "#Automcompletar rápido\n",
        "%config IPCompleter.greedy=True\n",
        "#Desactivar la notación científica\n",
        "#Desactivar la notación científica\n",
        "pd.options.display.float_format = '{:.3f}'.format\n",
        "\n",
        "#Google Drive\n",
        "from google.colab import drive\n",
        "drive.mount('/content/drive')"
      ]
    },
    {
      "cell_type": "markdown",
      "metadata": {
        "id": "CY7YY-_DbF1b"
      },
      "source": [
        "##**Google Drive** 🖥️"
      ]
    },
    {
      "cell_type": "code",
      "execution_count": null,
      "metadata": {
        "collapsed": true,
        "id": "RVhICKrLlK86"
      },
      "outputs": [],
      "source": [
        "df = pd.read_csv(\"/content/drive/MyDrive/TF/Grupo_Bussiness/heart_attack_prediction_dataset.csv\", encoding='ISO-8859-1', sep=\",\")"
      ]
    },
    {
      "cell_type": "markdown",
      "metadata": {
        "id": "Xd0V-2mSbLUT"
      },
      "source": [
        "##**Carga de datos** 🔄"
      ]
    },
    {
      "cell_type": "code",
      "execution_count": null,
      "metadata": {
        "id": "NGo5F24eu2od"
      },
      "outputs": [],
      "source": [
        "df.head(4)"
      ]
    },
    {
      "cell_type": "code",
      "execution_count": null,
      "metadata": {
        "id": "-zAPW9mIvFO4"
      },
      "outputs": [],
      "source": [
        "df.info()"
      ]
    },
    {
      "cell_type": "code",
      "execution_count": null,
      "metadata": {
        "id": "LsgMEVHFzDrQ"
      },
      "outputs": [],
      "source": [
        "print(df.shape)"
      ]
    },
    {
      "cell_type": "markdown",
      "metadata": {
        "id": "WH_uQkoocxb8"
      },
      "source": [
        "#**Deteccion de valores nulos** 🤔"
      ]
    },
    {
      "cell_type": "markdown",
      "metadata": {
        "id": "e0Rt7Pgzc4dT"
      },
      "source": [
        "## Contamos cuántas filas duplicadas hay en el dataset 🤔"
      ]
    },
    {
      "cell_type": "code",
      "execution_count": null,
      "metadata": {
        "id": "E1FMoV5TvlW5"
      },
      "outputs": [],
      "source": [
        "df.duplicated()"
      ]
    },
    {
      "cell_type": "code",
      "execution_count": null,
      "metadata": {
        "id": "QMzL7Jj8v7ip"
      },
      "outputs": [],
      "source": [
        "df[df.duplicated()]"
      ]
    },
    {
      "cell_type": "code",
      "execution_count": null,
      "metadata": {
        "id": "ZHlyRJ3hwQ0R"
      },
      "outputs": [],
      "source": [
        "condicion = df['Patient ID'] == 'BMW7812'\n",
        "df[condicion]"
      ]
    },
    {
      "cell_type": "code",
      "execution_count": null,
      "metadata": {
        "id": "r5B0fe1-v20Q"
      },
      "outputs": [],
      "source": [
        "df.duplicated().sum()"
      ]
    },
    {
      "cell_type": "markdown",
      "metadata": {
        "id": "YZGGpKu3yq9D"
      },
      "source": [
        "Eliminacion de filas duplicadas"
      ]
    },
    {
      "cell_type": "code",
      "execution_count": null,
      "metadata": {
        "id": "O7U7T5qCyssg"
      },
      "outputs": [],
      "source": [
        "df.drop_duplicates(inplace=True)\n",
        "df.shape"
      ]
    },
    {
      "cell_type": "markdown",
      "metadata": {
        "id": "4QCh5KKSfD9E"
      },
      "source": [
        "😄✅ *Como resultado se puede evidenciar que no hay duplicados* ✅ 😄"
      ]
    },
    {
      "cell_type": "markdown",
      "metadata": {
        "id": "vpoxiZwVkFwl"
      },
      "source": [
        "##Mostramos la cantidad de valores únicos por columna, ordenados de menor a mayor🔢"
      ]
    },
    {
      "cell_type": "code",
      "execution_count": null,
      "metadata": {
        "id": "Kg4LHqCsvTPQ"
      },
      "outputs": [],
      "source": [
        "df.nunique().sort_values(ascending=True)"
      ]
    },
    {
      "cell_type": "markdown",
      "metadata": {
        "id": "PafMRrZ6jzhD"
      },
      "source": [
        " ✅ 😄 *Resultado: No hay valores únicos, por lo que todas las columnas aportan valor al análisis* ✅ 😄"
      ]
    },
    {
      "cell_type": "markdown",
      "metadata": {
        "id": "c_TxXksqvj15"
      },
      "source": [
        "##Contamos los valores nulos por fila y los ordena de mayor a menor 🔢"
      ]
    },
    {
      "cell_type": "code",
      "execution_count": null,
      "metadata": {
        "id": "d8D2tjzq2c0o"
      },
      "outputs": [],
      "source": [
        "df.isnull().sum(axis=1).sort_values(ascending=False)"
      ]
    },
    {
      "cell_type": "code",
      "execution_count": null,
      "metadata": {
        "id": "VnfXNoIl2W_j"
      },
      "outputs": [],
      "source": [
        "df.isnull()"
      ]
    },
    {
      "cell_type": "markdown",
      "metadata": {
        "id": "gZeYsGlLknwT"
      },
      "source": [
        "##Calculamos el porcentaje de valores nulos por fila ✖"
      ]
    },
    {
      "cell_type": "code",
      "execution_count": null,
      "metadata": {
        "id": "Z5tW0ox2kmds"
      },
      "outputs": [],
      "source": [
        "(df.isnull().sum(axis=1)/df.shape[1]*100).sort_values(ascending=False)"
      ]
    },
    {
      "cell_type": "markdown",
      "metadata": {
        "id": "hEJLG-odktSb"
      },
      "source": [
        "## Eliminamos filas con un 10% o mas (2.7 o mas) de nulos ❌"
      ]
    },
    {
      "cell_type": "code",
      "execution_count": null,
      "metadata": {
        "id": "fkqChXrqkr-v"
      },
      "outputs": [],
      "source": [
        "df.dropna(thresh=3, inplace=True)\n",
        "print(df.shape)"
      ]
    },
    {
      "cell_type": "markdown",
      "metadata": {
        "id": "gko7yIJLkws7"
      },
      "source": [
        "*Resultado: Como ninguna fila tiene un 10% de nulos, no se eliminó ninguna* 😁"
      ]
    },
    {
      "cell_type": "markdown",
      "metadata": {
        "id": "xZc1tbOFjkSU"
      },
      "source": [
        "#**Aplicando mayusculas a los encabezados** 🔠"
      ]
    },
    {
      "cell_type": "code",
      "execution_count": null,
      "metadata": {
        "id": "o58MoLg5KyRR"
      },
      "outputs": [],
      "source": [
        "columna_renombrar={'age':'Age', ' sex':'Sex','diabates':'Diabetes'}\n",
        "df.rename(columns=columna_renombrar, inplace=True)\n",
        "df.head(4)"
      ]
    },
    {
      "cell_type": "markdown",
      "metadata": {
        "id": "tnuN7kctlFXK"
      },
      "source": [
        "#**Tratamiento de valores nulos** ⚠️"
      ]
    },
    {
      "cell_type": "markdown",
      "metadata": {
        "id": "okj6Nz_SlJhL"
      },
      "source": [
        "##Creamos un nuevo dataframe (dt_num) que contiene solo las columnas numéricas. 🔢"
      ]
    },
    {
      "cell_type": "code",
      "execution_count": null,
      "metadata": {
        "id": "Qb9G9b4KLjhk"
      },
      "outputs": [],
      "source": [
        "df_num=df.select_dtypes(include='number')\n",
        "df_num.head(3)"
      ]
    },
    {
      "cell_type": "markdown",
      "metadata": {
        "id": "9N-TMEAplNy6"
      },
      "source": [
        "##Creamos una copia del dataframe (dt_cat) con solo las columnas categóricas o no numéricas 🐱"
      ]
    },
    {
      "cell_type": "code",
      "execution_count": null,
      "metadata": {
        "id": "7xNmaCN0y2zS"
      },
      "outputs": [],
      "source": [
        "df_cat=df.select_dtypes(exclude='number').copy()\n",
        "df_cat.head(3)"
      ]
    },
    {
      "cell_type": "markdown",
      "metadata": {
        "id": "Fk5hYgjSlVCb"
      },
      "source": [
        "Primero trabajamos con df_cat"
      ]
    },
    {
      "cell_type": "markdown",
      "metadata": {
        "id": "RVy7DbXblVmD"
      },
      "source": [
        "Vemos cuántos nulos hay en cada columna 🤔"
      ]
    },
    {
      "cell_type": "code",
      "execution_count": null,
      "metadata": {
        "id": "lBYh_gQ_2gmY"
      },
      "outputs": [],
      "source": [
        "df_cat.isnull().sum().sort_values(ascending=False)"
      ]
    },
    {
      "cell_type": "markdown",
      "metadata": {
        "id": "mN316RTtllHD"
      },
      "source": [
        "Vemos que porcentaje de los datos representan los nulos en cada columna 📈"
      ]
    },
    {
      "cell_type": "code",
      "execution_count": null,
      "metadata": {
        "id": "QFsG8BZO2jPw"
      },
      "outputs": [],
      "source": [
        "df_cat.isnull().sum().sort_values(ascending=False) * 100 / len(df_cat)"
      ]
    },
    {
      "cell_type": "code",
      "execution_count": null,
      "metadata": {
        "id": "Z4b-ufa33NjI"
      },
      "outputs": [],
      "source": [
        "print('Variable \"District\"\\n')\n",
        "print(df_cat['District'].value_counts())\n",
        "print('\\ntotal de nulos: ', df_cat['District'].isnull().sum())\n",
        "print('total de filas: ', df_cat['District'].count())\n",
        "print('\\nModa: ',df_cat['District'].mode()[0])"
      ]
    },
    {
      "cell_type": "markdown",
      "metadata": {
        "id": "-iPD7QQ_lz7r"
      },
      "source": [
        "Imputamos la moda en los nulos cálculo\n",
        "📊"
      ]
    },
    {
      "cell_type": "code",
      "execution_count": null,
      "metadata": {
        "id": "OWAUOsSW3fuw"
      },
      "outputs": [],
      "source": [
        "valor_DISTRICT_MODA = df_cat['District'].mode()[0]\n",
        "df_cat['District'] = df_cat['District'].fillna(valor_DISTRICT_MODA)"
      ]
    },
    {
      "cell_type": "code",
      "execution_count": null,
      "metadata": {
        "id": "rDcenri4l_Vz"
      },
      "outputs": [],
      "source": [
        "df_cat.isna().sum().sort_values(ascending=False)"
      ]
    },
    {
      "cell_type": "code",
      "execution_count": null,
      "metadata": {
        "id": "dvWHByh2sket"
      },
      "outputs": [],
      "source": [
        "df.isna().sum().sort_values(ascending=False)"
      ]
    },
    {
      "cell_type": "markdown",
      "metadata": {
        "id": "hPZ2dZzHP3-q"
      },
      "source": [
        "**Gráfico de barras que muestra la frecuencia de los diferentes estados civiles en el conjunto de datos categóricos** 🧍👫❓"
      ]
    },
    {
      "cell_type": "code",
      "execution_count": null,
      "metadata": {
        "id": "dylWN-0j5kHa"
      },
      "outputs": [],
      "source": [
        "ax = df_cat['Marital Status'].value_counts().plot(kind='bar');\n",
        "ax.set_ylabel(\"Frecuencia\")\n",
        "ax.set_xlabel(\"Género\")"
      ]
    },
    {
      "cell_type": "markdown",
      "metadata": {
        "id": "TSO8gCJdmJrD"
      },
      "source": [
        "Ahora trabajamos con dt_num 🔢"
      ]
    },
    {
      "cell_type": "code",
      "execution_count": null,
      "metadata": {
        "id": "-oCmOSkAmKNE"
      },
      "outputs": [],
      "source": [
        "print(df_num.shape)\n",
        "df_num.isna().sum().sort_values(ascending=False)"
      ]
    },
    {
      "cell_type": "code",
      "execution_count": null,
      "metadata": {
        "id": "vnT5ZuReQI7g"
      },
      "outputs": [],
      "source": [
        "df.info()"
      ]
    },
    {
      "cell_type": "markdown",
      "metadata": {
        "id": "l29ZEVAdtVnX"
      },
      "source": [
        "MODELO REGRESION LOGISTICA HOMBRES"
      ]
    },
    {
      "cell_type": "markdown",
      "metadata": {
        "id": "ZZvBmNhuQLSF"
      },
      "source": [
        "# EDA"
      ]
    },
    {
      "cell_type": "markdown",
      "metadata": {
        "id": "wefQQ-FbQMhp"
      },
      "source": [
        "#📊 Importamos la librería Seaborn**, que utilizaremos para crear gráficos estadísticos más atractivos y fáciles de interpretar\n"
      ]
    },
    {
      "cell_type": "code",
      "execution_count": null,
      "metadata": {
        "colab": {
          "background_save": true
        },
        "id": "Lr0WitXCQOA1"
      },
      "outputs": [],
      "source": [
        "import seaborn as sns"
      ]
    },
    {
      "cell_type": "markdown",
      "metadata": {
        "id": "qw_w4L7TQPie"
      },
      "source": [
        "## Mostramos un gráfico de barras que representa la cantidad de pacientes con y sin riesgo de infarto. 🩺"
      ]
    },
    {
      "cell_type": "code",
      "execution_count": null,
      "metadata": {
        "colab": {
          "background_save": true
        },
        "id": "hMthpxgHQRKJ",
        "outputId": "d181388b-b842-4742-c07c-c755e1612da8"
      },
      "outputs": [
        {
          "data": {
            "image/png": "[encoded data removed]",
            "text/plain": [
              "<Figure size 640x480 with 1 Axes>"
            ]
          },
          "metadata": {},
          "output_type": "display_data"
        },
        {
          "name": "stdout",
          "output_type": "stream",
          "text": [
            "35.82% de los pacientes tienen riesgo de infarto\n"
          ]
        }
      ],
      "source": [
        "sns.countplot(data=df, x='Heart Attack Risk')\n",
        "plt.title('Distribución del Riesgo de Infarto en la Base de Datos')\n",
        "plt.xlabel('Riesgo de Infarto (0 = No, 1 = Sí)')\n",
        "plt.ylabel('Cantidad de Pacientes')\n",
        "\n",
        "counts = df['Heart Attack Risk'].value_counts()\n",
        "total_patients = len(df)\n",
        "risk_patients = counts.get(1, 0)\n",
        "no_risk_patients = counts.get(0, 0)\n",
        "\n",
        "plt.text(0, counts.get(0, 0) + 50, str(no_risk_patients), ha='center')\n",
        "plt.text(1, counts.get(1, 0) + 50, str(risk_patients), ha='center')\n",
        "plt.text(1.4, plt.ylim()[1] * 0.95, f'Total Pacientes: {total_patients}', ha='right', va='top', bbox=dict(boxstyle='round,pad=0.3', fc='wheat', alpha=0.8))\n",
        "\n",
        "\n",
        "plt.tight_layout()\n",
        "plt.show()\n",
        "\n",
        "porcentaje_riesgo = df['Heart Attack Risk'].value_counts(normalize=True)[1] * 100\n",
        "print(f\"{porcentaje_riesgo:.2f}% de los pacientes tienen riesgo de infarto\")"
      ]
    },
    {
      "cell_type": "markdown",
      "metadata": {
        "id": "wdxTuJTCQbcP"
      },
      "source": [
        "*Resultado: Vemos que el 35.28% de nuestros pacientes tienen riesgo de infarto* 📈"
      ]
    },
    {
      "cell_type": "markdown",
      "metadata": {
        "id": "RbymS4CQQb--"
      },
      "source": [
        "## Mostramos un gráfico de barras que representa la cantidad de hombres y mujeres dentro del grupo con riesgo de infarto 🚻"
      ]
    },
    {
      "cell_type": "code",
      "execution_count": null,
      "metadata": {
        "colab": {
          "background_save": true
        },
        "id": "n1Ej9v4jQds-",
        "outputId": "7cd65dc6-f042-4530-af88-a51aafee8ef6"
      },
      "outputs": [
        {
          "data": {
            "image/png": "[encoded data removed]",
            "text/plain": [
              "<Figure size 640x480 with 1 Axes>"
            ]
          },
          "metadata": {},
          "output_type": "display_data"
        }
      ],
      "source": [
        "riesgo = df[df['Heart Attack Risk'] == 1]\n",
        "sns.countplot(data=riesgo, x='Sex')\n",
        "plt.title('Distribución por Sexo entre los Pacientes con Riesgo de Infarto')\n",
        "plt.xlabel('Sexo')\n",
        "plt.ylabel('Cantidad')\n",
        "plt.tight_layout()\n",
        "plt.show()"
      ]
    },
    {
      "cell_type": "markdown",
      "metadata": {
        "id": "HtE5HjV4Qg9E"
      },
      "source": [
        "*Resultado: De ese 35.28% vemos que una gran mayoría es del sexo masculino, siendo estos más del doble que las mujeres* 👨‍⚕️👩‍⚕️"
      ]
    },
    {
      "cell_type": "markdown",
      "metadata": {
        "id": "RrQhVcL7VRQJ"
      },
      "source": [
        "## Mostramos un gráfico de barras que representa la cantidad de personas con y sin ataque cardíaco por distrito ❤️‍🔥🚨"
      ]
    },
    {
      "cell_type": "code",
      "execution_count": null,
      "metadata": {
        "colab": {
          "background_save": true
        },
        "id": "ObEsCeaxU7fh",
        "outputId": "0f01f311-fa8e-4f13-ad42-3dd413315ef4"
      },
      "outputs": [
        {
          "data": {
            "image/png": "[encoded data removed]",
            "text/plain": [
              "<Figure size 1400x600 with 1 Axes>"
            ]
          },
          "metadata": {},
          "output_type": "display_data"
        }
      ],
      "source": [
        "plt.figure(figsize=(14,6))\n",
        "ax = sns.countplot(data=df, x='District', hue='Heart Attack Risk')\n",
        "plt.title('Cantidad de personas con y sin ataque cardíaco por distrito')\n",
        "plt.xlabel('Distrito')\n",
        "plt.ylabel('Cantidad de personas')\n",
        "plt.xticks(rotation=45)\n",
        "plt.legend(title='Ataque cardíaco')\n",
        "plt.tight_layout()\n",
        "for container in ax.containers:\n",
        "    ax.bar_label(container)\n",
        "plt.show()"
      ]
    },
    {
      "cell_type": "markdown",
      "metadata": {
        "id": "xk6782xiiHov"
      },
      "source": [
        "## Mostramos un gráfico de barras que representa la Distribución de ataques cardíacos por género 🚹🚺🫀"
      ]
    },
    {
      "cell_type": "code",
      "execution_count": null,
      "metadata": {
        "colab": {
          "background_save": true
        },
        "id": "ZlnulYQOh3b_",
        "outputId": "295544a3-7961-46dc-bb4f-dd18db19c5d3"
      },
      "outputs": [
        {
          "data": {
            "image/png": "[encoded data removed]",
            "text/plain": [
              "<Figure size 600x500 with 1 Axes>"
            ]
          },
          "metadata": {},
          "output_type": "display_data"
        }
      ],
      "source": [
        "plt.figure(figsize=(6,5))\n",
        "ax = sns.countplot(data=df, x='Sex', hue='Heart Attack Risk')\n",
        "plt.title('Distribución de ataques cardíacos por género')\n",
        "plt.xlabel('Sexo')\n",
        "plt.ylabel('Cantidad')\n",
        "plt.legend(title='Ataque cardíaco', loc='upper right', bbox_to_anchor=(1, 0.9))\n",
        "plt.tight_layout()\n",
        "for container in ax.containers:\n",
        "    ax.bar_label(container)\n",
        "\n",
        "total_patients = df.shape[0]\n",
        "plt.text(0.98, 0.97, f'Total Pacientes: {total_patients}', horizontalalignment='right', verticalalignment='top', transform=ax.transAxes, bbox=dict(boxstyle='round,pad=0.5', fc='wheat', alpha=0.5))\n",
        "\n",
        "plt.show()"
      ]
    },
    {
      "cell_type": "markdown",
      "metadata": {
        "id": "sZoZHSgoQmP3"
      },
      "source": [
        "## Creamos un histograma apilado** para visualizar la distribución de edades entre pacientes con riesgo de infarto, separados por sexo. 📊🧑‍⚕️👩‍⚕️"
      ]
    },
    {
      "cell_type": "code",
      "execution_count": null,
      "metadata": {
        "colab": {
          "background_save": true
        },
        "id": "y6b5jELMQnLd",
        "outputId": "7979b420-b4c6-45a7-ef60-e7071f1b44ab"
      },
      "outputs": [
        {
          "data": {
            "image/png": "[encoded data removed]",
            "text/plain": [
              "<Figure size 640x480 with 1 Axes>"
            ]
          },
          "metadata": {},
          "output_type": "display_data"
        }
      ],
      "source": [
        "sns.histplot(data=riesgo, x='Age', hue='Sex', bins=20, kde=True, multiple='stack')\n",
        "plt.title('Distribución de Edad por Sexo (Riesgo de Infarto)')\n",
        "plt.xlabel('Edad')\n",
        "plt.ylabel('Cantidad de Pacientes')\n",
        "plt.tight_layout()\n",
        "plt.show()"
      ]
    },
    {
      "cell_type": "markdown",
      "metadata": {
        "id": "XnCX-DhMQqKS"
      },
      "source": [
        "*Resultado: De las mujeres y hombres, vemos que, en nuestro dataset, no hay una edad o rango de edades que sobresalga demasiado. La frecuencia de estas es similar a lo largo de todo el gráfico, sin llegar a ser estadísticamente significativo. 📉👥📊*"
      ]
    },
    {
      "cell_type": "markdown",
      "metadata": {
        "id": "LH6br_sAQr2f"
      },
      "source": [
        "##Gráfico de barras que compara la cantidad de fumadores y no fumadores entre pacientes con riesgo de infarto, separados por sexo. 🚬🚭📊"
      ]
    },
    {
      "cell_type": "code",
      "execution_count": null,
      "metadata": {
        "colab": {
          "background_save": true
        },
        "id": "XcaxbAW7QuXu",
        "outputId": "1717c14c-aab1-4acf-880f-6191c64687e4"
      },
      "outputs": [
        {
          "data": {
            "image/png": "[encoded data removed]",
            "text/plain": [
              "<Figure size 800x500 with 1 Axes>"
            ]
          },
          "metadata": {},
          "output_type": "display_data"
        }
      ],
      "source": [
        "plt.figure(figsize=(8,5))\n",
        "ax = sns.countplot(data=riesgo, x='Smoking', hue='Sex', palette=['orange','blue'])\n",
        "plt.title('Fumadores y No Fumadores entre Pacientes con Riesgo, por Sexo')\n",
        "plt.xlabel('Fuma (0=No, 1=Sí)')\n",
        "plt.ylabel('Cantidad de Pacientes')\n",
        "plt.legend(title='Sexo')\n",
        "\n",
        "for p in ax.patches:\n",
        "    ax.annotate(f'{int(p.get_height())}', (p.get_x() + p.get_width() / 2., p.get_height()),\n",
        "                ha='center', va='center', xytext=(0, 5), textcoords='offset points')\n",
        "\n",
        "\n",
        "plt.tight_layout()\n",
        "plt.show()"
      ]
    },
    {
      "cell_type": "markdown",
      "metadata": {
        "id": "l6dI6djRQwYR"
      },
      "source": [
        "*Resultado: De las mujeres y hombres, vemos que, en nuestro dataset, no hay una edad o rango de edades que sobresalga demasiado. La frecuencia de estas es similar a lo largo de todo el gráfico, sin llegar a ser estadísticamente significativo. 📊📉👥*"
      ]
    },
    {
      "cell_type": "markdown",
      "metadata": {
        "id": "PiSaIo6LQ0mq"
      },
      "source": [
        "##Creamos dos gráficos de torta (uno para hombres y otro para mujeres) mostrando la proporción de consumo de alcohol 🥧🍷👨👩"
      ]
    },
    {
      "cell_type": "code",
      "execution_count": null,
      "metadata": {
        "colab": {
          "background_save": true
        },
        "id": "7iWTV0_WQ16d",
        "outputId": "9b684433-a733-4a75-d65c-cba07ade04b8"
      },
      "outputs": [
        {
          "data": {
            "image/png": "[encoded data removed]",
            "text/plain": [
              "<Figure size 1200x600 with 2 Axes>"
            ]
          },
          "metadata": {},
          "output_type": "display_data"
        }
      ],
      "source": [
        "riesgo_male = riesgo[riesgo['Sex'] == 'Male']\n",
        "riesgo_female = riesgo[riesgo['Sex'] == 'Female']\n",
        "\n",
        "counts_male = riesgo_male['Alcohol Consumption'].value_counts().sort_index()\n",
        "counts_female = riesgo_female['Alcohol Consumption'].value_counts().sort_index()\n",
        "\n",
        "colors = ['#8fd9b6', '#f9a66e']\n",
        "\n",
        "fig, axs = plt.subplots(1, 2, figsize=(12,6))\n",
        "\n",
        "axs[0].pie(counts_male, labels=['No consume', 'Consume'], autopct='%1.1f%%', startangle=90, colors=colors)\n",
        "axs[0].set_title('Consumo de Alcohol en Hombres con Riesgo')\n",
        "\n",
        "axs[1].pie(counts_female, labels=['No consume', 'Consume'], autopct='%1.1f%%', startangle=90, colors=colors)\n",
        "axs[1].set_title('Consumo de Alcohol en Mujeres con Riesgo')\n",
        "\n",
        "plt.tight_layout()\n",
        "plt.show()"
      ]
    },
    {
      "cell_type": "markdown",
      "metadata": {
        "id": "p7JAG-TIQ4ZY"
      },
      "source": [
        "*Resultado: Vemos que tanto en hombres como en mujeres con riesgo de ataque al corazón, la mayoría consume alcohol, siendo en hombres ligeramente mayor que en mujeres.* 🍷📊👨👩"
      ]
    },
    {
      "cell_type": "markdown",
      "metadata": {
        "id": "94kC8abgQ6nv"
      },
      "source": [
        "##Histograma que muestra la distribución de presión arterial entre pacientes con riesgo de infarto, diferenciando por sexo 🩺📊👨👩"
      ]
    },
    {
      "cell_type": "code",
      "execution_count": null,
      "metadata": {
        "id": "YyJQ2Xv7Q8h4"
      },
      "outputs": [],
      "source": [
        "plt.figure(figsize=(8,5))\n",
        "sns.histplot(data=riesgo, x='Blood Pressure', hue='Sex', kde=True, element='step', stat='density', common_norm=False)\n",
        "plt.title('Distribución de Presión Arterial en Pacientes con Riesgo, por Sexo')\n",
        "plt.xlabel('Presión Arterial')\n",
        "plt.ylabel('Densidad')\n",
        "plt.tight_layout()\n",
        "plt.show()"
      ]
    },
    {
      "cell_type": "markdown",
      "metadata": {
        "id": "dMxAo7MoRCbZ"
      },
      "source": [
        "*Resultado: No se observa una gran diferencia en la distribución de presión arterial entre hombres y mujeres con riesgo de infarto.* 🩺📉👨👩"
      ]
    },
    {
      "cell_type": "markdown",
      "metadata": {
        "id": "SOhJK5-qRFfQ"
      },
      "source": [
        "## Gráfico de barras horizontales apiladas que muestra la distribución de obesidad entre pacientes con riesgo de infarto, diferenciados por sexo. ⚖️📊👨👩"
      ]
    },
    {
      "cell_type": "code",
      "execution_count": null,
      "metadata": {
        "id": "767Nr75uRHHd"
      },
      "outputs": [],
      "source": [
        "ct = pd.crosstab(riesgo['Obesity'], riesgo['Sex'])\n",
        "ct.plot(kind='barh', stacked=True, color=['#1f77b4','#ff7f0e'])\n",
        "plt.title('Pacientes con Riesgo: Obesidad por Sexo')\n",
        "plt.xlabel('Cantidad')\n",
        "plt.ylabel('Obesidad (0=No, 1=Sí)')\n",
        "plt.legend(['Hombre', 'Mujer'])\n",
        "plt.tight_layout()\n",
        "plt.show()"
      ]
    },
    {
      "cell_type": "markdown",
      "metadata": {
        "id": "A8JynrEyRJPI"
      },
      "source": [
        "*Resultado: El número total de pacientes obesos es similar al de no obesos, pero en ambos casos las mujeres son mayoría.* ⚖️👩📊"
      ]
    },
    {
      "cell_type": "markdown",
      "metadata": {
        "id": "okC1GBZqRKC_"
      },
      "source": [
        "## Boxplot que muestra la distribución del nivel de estrés entre hombres y mujeres con riesgo de infarto. Permite comparar la mediana, dispersión y posibles valores atípicos. 📦📉👨👩"
      ]
    },
    {
      "cell_type": "code",
      "execution_count": null,
      "metadata": {
        "id": "spPBszcJRMG8"
      },
      "outputs": [],
      "source": [
        "riesgo_1 = df[(df['Heart Attack Risk'] == 1)]\n",
        "\n",
        "plt.figure(figsize=(8,6))\n",
        "sns.boxplot(data=riesgo_1, x='Sex', y='Stress Level')\n",
        "plt.title('Distribución del Nivel de Estrés por Sexo en Pacientes con Riesgo de Infarto')\n",
        "plt.xlabel('Sexo')\n",
        "plt.ylabel('Nivel de Estrés')\n",
        "plt.tight_layout()\n",
        "plt.show()"
      ]
    },
    {
      "cell_type": "markdown",
      "metadata": {
        "id": "PMs31jTcROFn"
      },
      "source": [
        "*Resultado: Se aprecia que en promedio las mujeres con riesgo de ataque al corazón presentan mayor nivel de estrés que los hombre* 😟📈👩👨"
      ]
    },
    {
      "cell_type": "markdown",
      "metadata": {
        "id": "H3RWnzRMRPGK"
      },
      "source": [
        "##Boxplot que compara la cantidad de días de actividad física por semana entre hombres y mujeres con riesgo de infarto. 🏃‍♂️📦👨👩"
      ]
    },
    {
      "cell_type": "code",
      "execution_count": null,
      "metadata": {
        "id": "syHRgfk0RQ0i"
      },
      "outputs": [],
      "source": [
        "plt.figure(figsize=(8,6))\n",
        "sns.boxplot(data=riesgo_1, x='Sex', y='Physical Activity Days Per Week')\n",
        "plt.title('Días de Actividad Física por Semana según Sexo en Pacientes con Riesgo de Infarto')\n",
        "plt.xlabel('Sexo')\n",
        "plt.ylabel('Días de Actividad Física por Semana')\n",
        "plt.tight_layout()\n",
        "plt.show()"
      ]
    },
    {
      "cell_type": "markdown",
      "metadata": {
        "id": "UjqCVcvLRUX-"
      },
      "source": [
        "*Resultado: Vemos que el promedio de días que se ejercitan hombres y mujeres es muy similar, pero las mujeres tienen una variabilidad más alta, unas se ejercitan muy poco y otras mucho, mientras que los hombres tienen una actividad física más consistente, sin tantos casos extremos.* 🏃‍♀️📊👨👩"
      ]
    },
    {
      "cell_type": "markdown",
      "metadata": {
        "id": "r0SsqNobRWry"
      },
      "source": [
        "## Creamos una matriz de correlación entre las variables numéricas del dataset médico para identificar posibles relaciones lineales entre ellas. 📊🧠📈"
      ]
    },
    {
      "cell_type": "code",
      "execution_count": null,
      "metadata": {
        "colab": {
          "background_save": true
        },
        "id": "3zhnzQ6dRYDU",
        "outputId": "21d85056-15f9-425e-8ab3-c74867155e8a"
      },
      "outputs": [
        {
          "data": {
            "image/png": "[encoded data removed]",
            "text/plain": [
              "<Figure size 1200x1000 with 2 Axes>"
            ]
          },
          "metadata": {},
          "output_type": "display_data"
        }
      ],
      "source": [
        "numerical_cols = df.select_dtypes(include=['number']).columns\n",
        "df_corr = df[numerical_cols].corr()\n",
        "\n",
        "plt.figure(figsize=(12, 10))\n",
        "sns.heatmap(df_corr, annot=True, cmap='coolwarm', fmt=\".2f\")\n",
        "plt.title('Matriz de Correlación de Variables Numéricas')\n",
        "plt.show()"
      ]
    },
    {
      "cell_type": "markdown",
      "metadata": {
        "id": "X3L6jXhHnCjF"
      },
      "source": [
        "# Transformación de datos 📊"
      ]
    },
    {
      "cell_type": "markdown",
      "metadata": {
        "id": "qkL905tp_DWD"
      },
      "source": [
        "## Codificación de Variables Categóricas"
      ]
    },
    {
      "cell_type": "markdown",
      "metadata": {
        "id": "TZmbrGTg_G9M"
      },
      "source": [
        "### a) Label Encoding para Variables Binarias"
      ]
    },
    {
      "cell_type": "code",
      "execution_count": null,
      "metadata": {
        "colab": {
          "background_save": true
        },
        "id": "pVEmrvLp_QiU",
        "outputId": "8cd7756f-00ab-4e02-a85a-ba6b6d86ac9d"
      },
      "outputs": [
        {
          "name": "stdout",
          "output_type": "stream",
          "text": [
            "Valores únicos en Smoking: [1 0]\n",
            "Valores únicos en Alcohol Consumption: [0 1]\n",
            "Valores únicos en Family History: [0 1]\n"
          ]
        }
      ],
      "source": [
        "# Variables binarias (con 2 categorías) que están en texto y deben convertirse a 0/1\n",
        "binarias = ['Smoking', 'Alcohol Consumption', 'Family History']\n",
        "\n",
        "for col in binarias:\n",
        "    print(f\"Valores únicos en {col}: {df[col].unique()}\")"
      ]
    },
    {
      "cell_type": "markdown",
      "metadata": {
        "id": "Wp3lqdSd_Zos"
      },
      "source": [
        "### b) One-Hot Encoding para Variables con Múltiples Categorías"
      ]
    },
    {
      "cell_type": "code",
      "execution_count": null,
      "metadata": {
        "colab": {
          "background_save": true
        },
        "id": "6h93_SBf_Y87",
        "outputId": "187c3ef9-f851-4949-f6be-8094664a3fef"
      },
      "outputs": [
        {
          "name": "stdout",
          "output_type": "stream",
          "text": [
            "Variables categóricas convertidas con One-Hot Encoding:\n",
            "   Sex_Male  Marital Status_S  Marital Status_V  Diet_Healthy  Diet_Unhealthy  \\\n",
            "0         1                 1                 0             0               0   \n",
            "1         1                 1                 0             0               1   \n",
            "2         0                 1                 0             1               0   \n",
            "3         1                 1                 0             0               0   \n",
            "4         1                 0                 1             0               1   \n",
            "\n",
            "   Province_Cusco  Province_Lima  Province_Trujillo  \\\n",
            "0               0              0                  0   \n",
            "1               0              1                  0   \n",
            "2               1              0                  0   \n",
            "3               0              0                  1   \n",
            "4               1              0                  0   \n",
            "\n",
            "   Hemisphere_Southern Hemisphere  \n",
            "0                               1  \n",
            "1                               0  \n",
            "2                               0  \n",
            "3                               0  \n",
            "4                               0  \n"
          ]
        }
      ],
      "source": [
        "from sklearn.preprocessing import OneHotEncoder\n",
        "\n",
        "# Columnas categóricas con más de 2 categorías para One-Hot Encoding\n",
        "columnas_onehot = ['Sex', 'Marital Status', 'Diet', 'Province', 'Hemisphere']\n",
        "\n",
        "oneHE = OneHotEncoder(sparse_output=False, drop='first', dtype='int64')  # drop_first para evitar multicolinealidad\n",
        "df_oneHE_array = oneHE.fit_transform(df[columnas_onehot])\n",
        "df_oneHE = pd.DataFrame(df_oneHE_array, columns=oneHE.get_feature_names_out())\n",
        "\n",
        "print(\"Variables categóricas convertidas con One-Hot Encoding:\")\n",
        "print(df_oneHE.head())"
      ]
    },
    {
      "cell_type": "markdown",
      "metadata": {
        "id": "HsK1l4RF_iCL"
      },
      "source": [
        "## Escalado de Variables Numéricas"
      ]
    },
    {
      "cell_type": "code",
      "execution_count": null,
      "metadata": {
        "colab": {
          "background_save": true
        },
        "id": "flUdgTW2_lP7",
        "outputId": "4c6a83eb-91bc-48b1-acf6-4f3a26284a24"
      },
      "outputs": [
        {
          "name": "stdout",
          "output_type": "stream",
          "text": [
            "Variables numéricas escaladas:\n",
            "    Age  Cholesterol  Heart Rate  Diabetes  Family History  Smoking  Obesity  \\\n",
            "0 0.681        0.314       0.457     0.000           0.000    1.000    0.000   \n",
            "1 0.042        0.961       0.829     1.000           1.000    1.000    1.000   \n",
            "2 0.042        0.729       0.457     1.000           0.000    0.000    0.000   \n",
            "3 0.917        0.939       0.471     1.000           1.000    1.000    0.000   \n",
            "4 0.667        0.707       0.757     1.000           1.000    1.000    1.000   \n",
            "\n",
            "   Alcohol Consumption  Previous Heart Problems  Medication Use  Stress Level  \\\n",
            "0                0.000                    0.000           0.000         0.889   \n",
            "1                1.000                    1.000           0.000         0.000   \n",
            "2                0.000                    1.000           1.000         0.889   \n",
            "3                1.000                    1.000           0.000         0.889   \n",
            "4                0.000                    1.000           0.000         0.556   \n",
            "\n",
            "   Income  Triglycerides  Physical Activity Days Per Week  \\\n",
            "0   0.862          0.332                            0.000   \n",
            "1   0.949          0.266                            0.143   \n",
            "2   0.769          0.723                            0.571   \n",
            "3   0.377          0.452                            0.429   \n",
            "4   0.502          0.261                            0.143   \n",
            "\n",
            "   Sleep Hours Per Day  Heart Attack Risk  \n",
            "0                0.333              0.000  \n",
            "1                0.500              0.000  \n",
            "2                0.000              0.000  \n",
            "3                0.000              0.000  \n",
            "4                0.167              0.000  \n"
          ]
        }
      ],
      "source": [
        "from sklearn.preprocessing import MinMaxScaler\n",
        "\n",
        "# Columnas numéricas a escalar\n",
        "columnas_num = ['Age', 'Cholesterol', 'Heart Rate', 'Diabetes', 'Family History', 'Smoking',\n",
        "                'Obesity', 'Alcohol Consumption', 'Previous Heart Problems', 'Medication Use',\n",
        "                'Stress Level', 'Income', 'Triglycerides', 'Physical Activity Days Per Week',\n",
        "                'Sleep Hours Per Day', 'Heart Attack Risk']\n",
        "\n",
        "mms = MinMaxScaler()\n",
        "mms.fit(df[columnas_num])\n",
        "df_mms_array = mms.transform(df[columnas_num])\n",
        "df_mms = pd.DataFrame(df_mms_array, columns=columnas_num)\n",
        "\n",
        "print(\"Variables numéricas escaladas:\")\n",
        "print(df_mms.head())"
      ]
    },
    {
      "cell_type": "markdown",
      "metadata": {
        "id": "92jkUKX8_tnT"
      },
      "source": [
        "## Separación de Variables Predictoras y Variable Objetivo"
      ]
    },
    {
      "cell_type": "code",
      "execution_count": null,
      "metadata": {
        "colab": {
          "background_save": true
        },
        "id": "E_jcO8AB_rRL",
        "outputId": "737a6907-ddb2-463f-c0a8-f02d85786593"
      },
      "outputs": [
        {
          "name": "stdout",
          "output_type": "stream",
          "text": [
            "Variables predictoras:\n",
            "   Sex_Male  Marital Status_S  Marital Status_V  Diet_Healthy  Diet_Unhealthy  \\\n",
            "0         1                 1                 0             0               0   \n",
            "1         1                 1                 0             0               1   \n",
            "2         0                 1                 0             1               0   \n",
            "3         1                 1                 0             0               0   \n",
            "4         1                 0                 1             0               1   \n",
            "\n",
            "   Province_Cusco  Province_Lima  Province_Trujillo  \\\n",
            "0               0              0                  0   \n",
            "1               0              1                  0   \n",
            "2               1              0                  0   \n",
            "3               0              0                  1   \n",
            "4               1              0                  0   \n",
            "\n",
            "   Hemisphere_Southern Hemisphere   Age  ...  Smoking  Obesity  \\\n",
            "0                               1 0.681  ...    1.000    0.000   \n",
            "1                               0 0.042  ...    1.000    1.000   \n",
            "2                               0 0.042  ...    0.000    0.000   \n",
            "3                               0 0.917  ...    1.000    0.000   \n",
            "4                               0 0.667  ...    1.000    1.000   \n",
            "\n",
            "   Alcohol Consumption  Previous Heart Problems  Medication Use  Stress Level  \\\n",
            "0                0.000                    0.000           0.000         0.889   \n",
            "1                1.000                    1.000           0.000         0.000   \n",
            "2                0.000                    1.000           1.000         0.889   \n",
            "3                1.000                    1.000           0.000         0.889   \n",
            "4                0.000                    1.000           0.000         0.556   \n",
            "\n",
            "   Income  Triglycerides  Physical Activity Days Per Week  Sleep Hours Per Day  \n",
            "0   0.862          0.332                            0.000                0.333  \n",
            "1   0.949          0.266                            0.143                0.500  \n",
            "2   0.769          0.723                            0.571                0.000  \n",
            "3   0.377          0.452                            0.429                0.000  \n",
            "4   0.502          0.261                            0.143                0.167  \n",
            "\n",
            "[5 rows x 24 columns]\n",
            "Variable objetivo:\n",
            "0    0\n",
            "1    0\n",
            "2    0\n",
            "3    0\n",
            "4    0\n",
            "Name: Heart Attack Risk, dtype: int64\n"
          ]
        }
      ],
      "source": [
        "# Variable objetivo\n",
        "df_target = df['Heart Attack Risk']\n",
        "\n",
        "# Variables predictoras\n",
        "df_predictoras = pd.concat([df_oneHE, df_mms.drop(columns=['Heart Attack Risk'])], axis=1)\n",
        "\n",
        "print(\"Variables predictoras:\")\n",
        "print(df_predictoras.head())\n",
        "\n",
        "print(\"Variable objetivo:\")\n",
        "print(df_target.head())"
      ]
    },
    {
      "cell_type": "code",
      "execution_count": null,
      "metadata": {
        "colab": {
          "background_save": true
        },
        "id": "K7lY9niNG3h1",
        "outputId": "e7a7596f-b267-48e3-dc1d-fb11a23a73d9"
      },
      "outputs": [
        {
          "data": {
            "application/vnd.google.colaboratory.intrinsic+json": {
              "type": "dataframe",
              "variable_name": "df_final"
            },
            "text/html": [
              "\n",
              "  <div id=\"df-5b6b9ba1-2729-4ec7-b4ac-265acb266273\" class=\"colab-df-container\">\n",
              "    <div>\n",
              "<style scoped>\n",
              "    .dataframe tbody tr th:only-of-type {\n",
              "        vertical-align: middle;\n",
              "    }\n",
              "\n",
              "    .dataframe tbody tr th {\n",
              "        vertical-align: top;\n",
              "    }\n",
              "\n",
              "    .dataframe thead th {\n",
              "        text-align: right;\n",
              "    }\n",
              "</style>\n",
              "<table border=\"1\" class=\"dataframe\">\n",
              "  <thead>\n",
              "    <tr style=\"text-align: right;\">\n",
              "      <th></th>\n",
              "      <th>Sex_Male</th>\n",
              "      <th>Marital Status_S</th>\n",
              "      <th>Marital Status_V</th>\n",
              "      <th>Diet_Healthy</th>\n",
              "      <th>Diet_Unhealthy</th>\n",
              "      <th>Province_Cusco</th>\n",
              "      <th>Province_Lima</th>\n",
              "      <th>Province_Trujillo</th>\n",
              "      <th>Hemisphere_Southern Hemisphere</th>\n",
              "      <th>Age</th>\n",
              "      <th>...</th>\n",
              "      <th>Alcohol Consumption</th>\n",
              "      <th>Previous Heart Problems</th>\n",
              "      <th>Medication Use</th>\n",
              "      <th>Stress Level</th>\n",
              "      <th>Income</th>\n",
              "      <th>Triglycerides</th>\n",
              "      <th>Physical Activity Days Per Week</th>\n",
              "      <th>Sleep Hours Per Day</th>\n",
              "      <th>Heart Attack Risk</th>\n",
              "      <th>Heart Attack Risk</th>\n",
              "    </tr>\n",
              "  </thead>\n",
              "  <tbody>\n",
              "    <tr>\n",
              "      <th>0</th>\n",
              "      <td>1</td>\n",
              "      <td>1</td>\n",
              "      <td>0</td>\n",
              "      <td>0</td>\n",
              "      <td>0</td>\n",
              "      <td>0</td>\n",
              "      <td>0</td>\n",
              "      <td>0</td>\n",
              "      <td>1</td>\n",
              "      <td>0.681</td>\n",
              "      <td>...</td>\n",
              "      <td>0.000</td>\n",
              "      <td>0.000</td>\n",
              "      <td>0.000</td>\n",
              "      <td>0.889</td>\n",
              "      <td>0.862</td>\n",
              "      <td>0.332</td>\n",
              "      <td>0.000</td>\n",
              "      <td>0.333</td>\n",
              "      <td>0.000</td>\n",
              "      <td>0</td>\n",
              "    </tr>\n",
              "    <tr>\n",
              "      <th>1</th>\n",
              "      <td>1</td>\n",
              "      <td>1</td>\n",
              "      <td>0</td>\n",
              "      <td>0</td>\n",
              "      <td>1</td>\n",
              "      <td>0</td>\n",
              "      <td>1</td>\n",
              "      <td>0</td>\n",
              "      <td>0</td>\n",
              "      <td>0.042</td>\n",
              "      <td>...</td>\n",
              "      <td>1.000</td>\n",
              "      <td>1.000</td>\n",
              "      <td>0.000</td>\n",
              "      <td>0.000</td>\n",
              "      <td>0.949</td>\n",
              "      <td>0.266</td>\n",
              "      <td>0.143</td>\n",
              "      <td>0.500</td>\n",
              "      <td>0.000</td>\n",
              "      <td>0</td>\n",
              "    </tr>\n",
              "    <tr>\n",
              "      <th>2</th>\n",
              "      <td>0</td>\n",
              "      <td>1</td>\n",
              "      <td>0</td>\n",
              "      <td>1</td>\n",
              "      <td>0</td>\n",
              "      <td>1</td>\n",
              "      <td>0</td>\n",
              "      <td>0</td>\n",
              "      <td>0</td>\n",
              "      <td>0.042</td>\n",
              "      <td>...</td>\n",
              "      <td>0.000</td>\n",
              "      <td>1.000</td>\n",
              "      <td>1.000</td>\n",
              "      <td>0.889</td>\n",
              "      <td>0.769</td>\n",
              "      <td>0.723</td>\n",
              "      <td>0.571</td>\n",
              "      <td>0.000</td>\n",
              "      <td>0.000</td>\n",
              "      <td>0</td>\n",
              "    </tr>\n",
              "    <tr>\n",
              "      <th>3</th>\n",
              "      <td>1</td>\n",
              "      <td>1</td>\n",
              "      <td>0</td>\n",
              "      <td>0</td>\n",
              "      <td>0</td>\n",
              "      <td>0</td>\n",
              "      <td>0</td>\n",
              "      <td>1</td>\n",
              "      <td>0</td>\n",
              "      <td>0.917</td>\n",
              "      <td>...</td>\n",
              "      <td>1.000</td>\n",
              "      <td>1.000</td>\n",
              "      <td>0.000</td>\n",
              "      <td>0.889</td>\n",
              "      <td>0.377</td>\n",
              "      <td>0.452</td>\n",
              "      <td>0.429</td>\n",
              "      <td>0.000</td>\n",
              "      <td>0.000</td>\n",
              "      <td>0</td>\n",
              "    </tr>\n",
              "    <tr>\n",
              "      <th>4</th>\n",
              "      <td>1</td>\n",
              "      <td>0</td>\n",
              "      <td>1</td>\n",
              "      <td>0</td>\n",
              "      <td>1</td>\n",
              "      <td>1</td>\n",
              "      <td>0</td>\n",
              "      <td>0</td>\n",
              "      <td>0</td>\n",
              "      <td>0.667</td>\n",
              "      <td>...</td>\n",
              "      <td>0.000</td>\n",
              "      <td>1.000</td>\n",
              "      <td>0.000</td>\n",
              "      <td>0.556</td>\n",
              "      <td>0.502</td>\n",
              "      <td>0.261</td>\n",
              "      <td>0.143</td>\n",
              "      <td>0.167</td>\n",
              "      <td>0.000</td>\n",
              "      <td>0</td>\n",
              "    </tr>\n",
              "  </tbody>\n",
              "</table>\n",
              "<p>5 rows × 26 columns</p>\n",
              "</div>\n",
              "    <div class=\"colab-df-buttons\">\n",
              "\n",
              "  <div class=\"colab-df-container\">\n",
              "    <button class=\"colab-df-convert\" onclick=\"convertToInteractive('df-5b6b9ba1-2729-4ec7-b4ac-265acb266273')\"\n",
              "            title=\"Convert this dataframe to an interactive table.\"\n",
              "            style=\"display:none;\">\n",
              "\n",
              "  <svg xmlns=\"http://www.w3.org/2000/svg\" height=\"24px\" viewBox=\"0 -960 960 960\">\n",
              "    <path d=\"M120-120v-720h720v720H120Zm60-500h600v-160H180v160Zm220 220h160v-160H400v160Zm0 220h160v-160H400v160ZM180-400h160v-160H180v160Zm440 0h160v-160H620v160ZM180-180h160v-160H180v160Zm440 0h160v-160H620v160Z\"/>\n",
              "  </svg>\n",
              "    </button>\n",
              "\n",
              "  <style>\n",
              "    .colab-df-container {\n",
              "      display:flex;\n",
              "      gap: 12px;\n",
              "    }\n",
              "\n",
              "    .colab-df-convert {\n",
              "      background-color: #E8F0FE;\n",
              "      border: none;\n",
              "      border-radius: 50%;\n",
              "      cursor: pointer;\n",
              "      display: none;\n",
              "      fill: #1967D2;\n",
              "      height: 32px;\n",
              "      padding: 0 0 0 0;\n",
              "      width: 32px;\n",
              "    }\n",
              "\n",
              "    .colab-df-convert:hover {\n",
              "      background-color: #E2EBFA;\n",
              "      box-shadow: 0px 1px 2px rgba(60, 64, 67, 0.3), 0px 1px 3px 1px rgba(60, 64, 67, 0.15);\n",
              "      fill: #174EA6;\n",
              "    }\n",
              "\n",
              "    .colab-df-buttons div {\n",
              "      margin-bottom: 4px;\n",
              "    }\n",
              "\n",
              "    [theme=dark] .colab-df-convert {\n",
              "      background-color: #3B4455;\n",
              "      fill: #D2E3FC;\n",
              "    }\n",
              "\n",
              "    [theme=dark] .colab-df-convert:hover {\n",
              "      background-color: #434B5C;\n",
              "      box-shadow: 0px 1px 3px 1px rgba(0, 0, 0, 0.15);\n",
              "      filter: drop-shadow(0px 1px 2px rgba(0, 0, 0, 0.3));\n",
              "      fill: #FFFFFF;\n",
              "    }\n",
              "  </style>\n",
              "\n",
              "    <script>\n",
              "      const buttonEl =\n",
              "        document.querySelector('#df-5b6b9ba1-2729-4ec7-b4ac-265acb266273 button.colab-df-convert');\n",
              "      buttonEl.style.display =\n",
              "        google.colab.kernel.accessAllowed ? 'block' : 'none';\n",
              "\n",
              "      async function convertToInteractive(key) {\n",
              "        const element = document.querySelector('#df-5b6b9ba1-2729-4ec7-b4ac-265acb266273');\n",
              "        const dataTable =\n",
              "          await google.colab.kernel.invokeFunction('convertToInteractive',\n",
              "                                                    [key], {});\n",
              "        if (!dataTable) return;\n",
              "\n",
              "        const docLinkHtml = 'Like what you see? Visit the ' +\n",
              "          '<a target=\"_blank\" href=https://colab.research.google.com/notebooks/data_table.ipynb>data table notebook</a>'\n",
              "          + ' to learn more about interactive tables.';\n",
              "        element.innerHTML = '';\n",
              "        dataTable['output_type'] = 'display_data';\n",
              "        await google.colab.output.renderOutput(dataTable, element);\n",
              "        const docLink = document.createElement('div');\n",
              "        docLink.innerHTML = docLinkHtml;\n",
              "        element.appendChild(docLink);\n",
              "      }\n",
              "    </script>\n",
              "  </div>\n",
              "\n",
              "\n",
              "    <div id=\"df-ddf0792b-934c-470c-8101-eadcde902517\">\n",
              "      <button class=\"colab-df-quickchart\" onclick=\"quickchart('df-ddf0792b-934c-470c-8101-eadcde902517')\"\n",
              "                title=\"Suggest charts\"\n",
              "                style=\"display:none;\">\n",
              "\n",
              "<svg xmlns=\"http://www.w3.org/2000/svg\" height=\"24px\"viewBox=\"0 0 24 24\"\n",
              "     width=\"24px\">\n",
              "    <g>\n",
              "        <path d=\"M19 3H5c-1.1 0-2 .9-2 2v14c0 1.1.9 2 2 2h14c1.1 0 2-.9 2-2V5c0-1.1-.9-2-2-2zM9 17H7v-7h2v7zm4 0h-2V7h2v10zm4 0h-2v-4h2v4z\"/>\n",
              "    </g>\n",
              "</svg>\n",
              "      </button>\n",
              "\n",
              "<style>\n",
              "  .colab-df-quickchart {\n",
              "      --bg-color: #E8F0FE;\n",
              "      --fill-color: #1967D2;\n",
              "      --hover-bg-color: #E2EBFA;\n",
              "      --hover-fill-color: #174EA6;\n",
              "      --disabled-fill-color: #AAA;\n",
              "      --disabled-bg-color: #DDD;\n",
              "  }\n",
              "\n",
              "  [theme=dark] .colab-df-quickchart {\n",
              "      --bg-color: #3B4455;\n",
              "      --fill-color: #D2E3FC;\n",
              "      --hover-bg-color: #434B5C;\n",
              "      --hover-fill-color: #FFFFFF;\n",
              "      --disabled-bg-color: #3B4455;\n",
              "      --disabled-fill-color: #666;\n",
              "  }\n",
              "\n",
              "  .colab-df-quickchart {\n",
              "    background-color: var(--bg-color);\n",
              "    border: none;\n",
              "    border-radius: 50%;\n",
              "    cursor: pointer;\n",
              "    display: none;\n",
              "    fill: var(--fill-color);\n",
              "    height: 32px;\n",
              "    padding: 0;\n",
              "    width: 32px;\n",
              "  }\n",
              "\n",
              "  .colab-df-quickchart:hover {\n",
              "    background-color: var(--hover-bg-color);\n",
              "    box-shadow: 0 1px 2px rgba(60, 64, 67, 0.3), 0 1px 3px 1px rgba(60, 64, 67, 0.15);\n",
              "    fill: var(--button-hover-fill-color);\n",
              "  }\n",
              "\n",
              "  .colab-df-quickchart-complete:disabled,\n",
              "  .colab-df-quickchart-complete:disabled:hover {\n",
              "    background-color: var(--disabled-bg-color);\n",
              "    fill: var(--disabled-fill-color);\n",
              "    box-shadow: none;\n",
              "  }\n",
              "\n",
              "  .colab-df-spinner {\n",
              "    border: 2px solid var(--fill-color);\n",
              "    border-color: transparent;\n",
              "    border-bottom-color: var(--fill-color);\n",
              "    animation:\n",
              "      spin 1s steps(1) infinite;\n",
              "  }\n",
              "\n",
              "  @keyframes spin {\n",
              "    0% {\n",
              "      border-color: transparent;\n",
              "      border-bottom-color: var(--fill-color);\n",
              "      border-left-color: var(--fill-color);\n",
              "    }\n",
              "    20% {\n",
              "      border-color: transparent;\n",
              "      border-left-color: var(--fill-color);\n",
              "      border-top-color: var(--fill-color);\n",
              "    }\n",
              "    30% {\n",
              "      border-color: transparent;\n",
              "      border-left-color: var(--fill-color);\n",
              "      border-top-color: var(--fill-color);\n",
              "      border-right-color: var(--fill-color);\n",
              "    }\n",
              "    40% {\n",
              "      border-color: transparent;\n",
              "      border-right-color: var(--fill-color);\n",
              "      border-top-color: var(--fill-color);\n",
              "    }\n",
              "    60% {\n",
              "      border-color: transparent;\n",
              "      border-right-color: var(--fill-color);\n",
              "    }\n",
              "    80% {\n",
              "      border-color: transparent;\n",
              "      border-right-color: var(--fill-color);\n",
              "      border-bottom-color: var(--fill-color);\n",
              "    }\n",
              "    90% {\n",
              "      border-color: transparent;\n",
              "      border-bottom-color: var(--fill-color);\n",
              "    }\n",
              "  }\n",
              "</style>\n",
              "\n",
              "      <script>\n",
              "        async function quickchart(key) {\n",
              "          const quickchartButtonEl =\n",
              "            document.querySelector('#' + key + ' button');\n",
              "          quickchartButtonEl.disabled = true;  // To prevent multiple clicks.\n",
              "          quickchartButtonEl.classList.add('colab-df-spinner');\n",
              "          try {\n",
              "            const charts = await google.colab.kernel.invokeFunction(\n",
              "                'suggestCharts', [key], {});\n",
              "          } catch (error) {\n",
              "            console.error('Error during call to suggestCharts:', error);\n",
              "          }\n",
              "          quickchartButtonEl.classList.remove('colab-df-spinner');\n",
              "          quickchartButtonEl.classList.add('colab-df-quickchart-complete');\n",
              "        }\n",
              "        (() => {\n",
              "          let quickchartButtonEl =\n",
              "            document.querySelector('#df-ddf0792b-934c-470c-8101-eadcde902517 button');\n",
              "          quickchartButtonEl.style.display =\n",
              "            google.colab.kernel.accessAllowed ? 'block' : 'none';\n",
              "        })();\n",
              "      </script>\n",
              "    </div>\n",
              "\n",
              "    </div>\n",
              "  </div>\n"
            ],
            "text/plain": [
              "   Sex_Male  Marital Status_S  Marital Status_V  Diet_Healthy  Diet_Unhealthy  \\\n",
              "0         1                 1                 0             0               0   \n",
              "1         1                 1                 0             0               1   \n",
              "2         0                 1                 0             1               0   \n",
              "3         1                 1                 0             0               0   \n",
              "4         1                 0                 1             0               1   \n",
              "\n",
              "   Province_Cusco  Province_Lima  Province_Trujillo  \\\n",
              "0               0              0                  0   \n",
              "1               0              1                  0   \n",
              "2               1              0                  0   \n",
              "3               0              0                  1   \n",
              "4               1              0                  0   \n",
              "\n",
              "   Hemisphere_Southern Hemisphere   Age  ...  Alcohol Consumption  \\\n",
              "0                               1 0.681  ...                0.000   \n",
              "1                               0 0.042  ...                1.000   \n",
              "2                               0 0.042  ...                0.000   \n",
              "3                               0 0.917  ...                1.000   \n",
              "4                               0 0.667  ...                0.000   \n",
              "\n",
              "   Previous Heart Problems  Medication Use  Stress Level  Income  \\\n",
              "0                    0.000           0.000         0.889   0.862   \n",
              "1                    1.000           0.000         0.000   0.949   \n",
              "2                    1.000           1.000         0.889   0.769   \n",
              "3                    1.000           0.000         0.889   0.377   \n",
              "4                    1.000           0.000         0.556   0.502   \n",
              "\n",
              "   Triglycerides  Physical Activity Days Per Week  Sleep Hours Per Day  \\\n",
              "0          0.332                            0.000                0.333   \n",
              "1          0.266                            0.143                0.500   \n",
              "2          0.723                            0.571                0.000   \n",
              "3          0.452                            0.429                0.000   \n",
              "4          0.261                            0.143                0.167   \n",
              "\n",
              "   Heart Attack Risk  Heart Attack Risk  \n",
              "0              0.000                  0  \n",
              "1              0.000                  0  \n",
              "2              0.000                  0  \n",
              "3              0.000                  0  \n",
              "4              0.000                  0  \n",
              "\n",
              "[5 rows x 26 columns]"
            ]
          },
          "execution_count": 48,
          "metadata": {},
          "output_type": "execute_result"
        }
      ],
      "source": [
        "df_final = pd.concat([df_oneHE, df_mms, df_target], axis=1)\n",
        "df_final.head()"
      ]
    },
    {
      "cell_type": "markdown",
      "metadata": {
        "id": "7r7R27FcrbQ-"
      },
      "source": [
        "#Regresion Logistica 📊🤖"
      ]
    },
    {
      "cell_type": "markdown",
      "metadata": {
        "id": "POB3lGvTre7M"
      },
      "source": [
        "##Paso 1: Importar librerías necesarias 📦"
      ]
    },
    {
      "cell_type": "code",
      "execution_count": null,
      "metadata": {
        "colab": {
          "background_save": true
        },
        "id": "hq0tOFN3rvRM"
      },
      "outputs": [],
      "source": [
        "import numpy as np\n",
        "import pandas as pd\n",
        "import matplotlib.pyplot as plt\n",
        "from sklearn.model_selection import train_test_split\n",
        "from sklearn.linear_model import LogisticRegression\n",
        "from sklearn.ensemble import RandomForestClassifier\n",
        "from sklearn.preprocessing import StandardScaler\n",
        "from sklearn.metrics import (\n",
        "    accuracy_score, roc_auc_score, classification_report,\n",
        "    confusion_matrix, roc_curve,\n",
        "    precision_score, recall_score, f1_score\n",
        ")\n",
        "from sklearn.impute import SimpleImputer"
      ]
    },
    {
      "cell_type": "markdown",
      "metadata": {
        "id": "vouxIeolrxiP"
      },
      "source": [
        "##Paso 2: Filtrar el dataset a hombres 👨‍💼🧪"
      ]
    },
    {
      "cell_type": "code",
      "execution_count": null,
      "metadata": {
        "colab": {
          "background_save": true
        },
        "id": "lklCJPLEr2x4",
        "outputId": "c44b5914-bbfa-43fb-ce0e-c78d8d0eb307"
      },
      "outputs": [
        {
          "name": "stdout",
          "output_type": "stream",
          "text": [
            "Valores en columna 'Sex': ['Male' 'Female']\n"
          ]
        }
      ],
      "source": [
        "\n",
        "print(\"Valores en columna 'Sex':\", df['Sex'].unique())\n",
        "df_male = df[df['Sex'] == 'Male'].copy()"
      ]
    },
    {
      "cell_type": "markdown",
      "metadata": {
        "id": "_bcDXThwr8w2"
      },
      "source": [
        "##Paso 3: Corregir nombres de columnas y convertir variables a numérico 🛠️🔢"
      ]
    },
    {
      "cell_type": "code",
      "execution_count": null,
      "metadata": {
        "colab": {
          "background_save": true
        },
        "id": "HnqAXxlOsGw1"
      },
      "outputs": [],
      "source": [
        "\n",
        "df_male.rename(columns={\"diabates\":\"Diabetes\"}, inplace=True)\n",
        "cols_to_numeric = ['BMI', 'Sedentary Hours Per Day', 'Exercise Hours Per Week']\n",
        "for col in cols_to_numeric:\n",
        "    df_male[col] = pd.to_numeric(df_male[col], errors=\"coerce\")"
      ]
    },
    {
      "cell_type": "markdown",
      "metadata": {
        "id": "skYsmkxAsM_X"
      },
      "source": [
        "##Paso 4: Seleccionar variables relevantes 🎯📌"
      ]
    },
    {
      "cell_type": "code",
      "execution_count": null,
      "metadata": {
        "colab": {
          "background_save": true
        },
        "id": "gcDEpuXRsYnK"
      },
      "outputs": [],
      "source": [
        "# Lista de columnas que queremos conservar\n",
        "features = [\n",
        "    'Age', 'Cholesterol', 'Heart Rate', 'Diabetes', 'Family History',\n",
        "    'Smoking', 'Alcohol Consumption', 'Exercise Hours Per Week',\n",
        "    'Diet', 'Previous Heart Problems', 'Medication Use', 'Stress Level',\n",
        "    'BMI', 'Sedentary Hours Per Day', 'Income', 'Triglycerides',\n",
        "    'Physical Activity Days Per Week', 'Sleep Hours Per Day',\n",
        "    'Hemisphere', 'Heart Attack Risk'\n",
        "]\n",
        "\n",
        "# Asegurarse de que existan en el DataFrame\n",
        "features = [col for col in features if col in df_male.columns]\n",
        "\n",
        "# Crear nuevo DataFrame con las columnas seleccionadas\n",
        "df_male_model = df_male[features].copy()"
      ]
    },
    {
      "cell_type": "markdown",
      "metadata": {
        "id": "xmLP3GO2sdA1"
      },
      "source": [
        "##Paso 5: Convertir variables categóricas a dummies 🧩➡️🔢"
      ]
    },
    {
      "cell_type": "code",
      "execution_count": null,
      "metadata": {
        "colab": {
          "background_save": true
        },
        "id": "LxvC6NaBsems"
      },
      "outputs": [],
      "source": [
        "df_male_model = pd.get_dummies(df_male_model, columns=['Diet', 'Hemisphere'], drop_first=True)"
      ]
    },
    {
      "cell_type": "markdown",
      "metadata": {
        "id": "RsHY0pj3shy2"
      },
      "source": [
        "##Paso 6: Separar X e Y (variables predictoras y variable objetivo) ✂️📈🎯"
      ]
    },
    {
      "cell_type": "code",
      "execution_count": null,
      "metadata": {
        "colab": {
          "background_save": true
        },
        "id": "AkSQDy9QvMC1"
      },
      "outputs": [],
      "source": [
        "# Separar variables predictoras (X) y variable objetivo (y)\n",
        "X = df_male_model.drop('Heart Attack Risk', axis=1)\n",
        "y = df_male_model['Heart Attack Risk']"
      ]
    },
    {
      "cell_type": "markdown",
      "metadata": {
        "id": "qd-FJyGAvNpk"
      },
      "source": [
        "##Paso 7: Preprocesamiento robusto (imputación y limpieza) 🧼🛠️📊"
      ]
    },
    {
      "cell_type": "code",
      "execution_count": null,
      "metadata": {
        "colab": {
          "background_save": true
        },
        "id": "DvD6frS9slOv"
      },
      "outputs": [],
      "source": [
        "# Eliminar columnas completamente vacías\n",
        "X = X.dropna(axis=1, how=\"all\")\n",
        "\n",
        "# Imputar valores faltantes con la media\n",
        "imputer = SimpleImputer(strategy=\"mean\")\n",
        "X = pd.DataFrame(imputer.fit_transform(X), columns=X.columns)"
      ]
    },
    {
      "cell_type": "markdown",
      "metadata": {
        "id": "wye61Ml4spJL"
      },
      "source": [
        "##Paso 8: Separar conjunto de entrenamiento y prueba 🧪🧠📉"
      ]
    },
    {
      "cell_type": "code",
      "execution_count": null,
      "metadata": {
        "colab": {
          "background_save": true
        },
        "id": "98NiSJ-0sq35"
      },
      "outputs": [],
      "source": [
        "# Separar datos en train y test\n",
        "X_train, X_test, y_train, y_test = train_test_split(\n",
        "    X, y, test_size=0.25, random_state=42\n",
        ")\n",
        "\n",
        "# Escalar solo para regresión logística\n",
        "scaler = StandardScaler()\n",
        "X_train_scaled = scaler.fit_transform(X_train)\n",
        "X_test_scaled = scaler.transform(X_test)"
      ]
    },
    {
      "cell_type": "markdown",
      "metadata": {
        "id": "o9gwOJuksu9V"
      },
      "source": [
        "##Paso 9: Entrenar y evaluar modelo de Regresión Logística 🤖📊✅"
      ]
    },
    {
      "cell_type": "code",
      "execution_count": null,
      "metadata": {
        "colab": {
          "background_save": true
        },
        "id": "WdBDt3K7swpa",
        "outputId": "55e1d591-2ced-4938-ba8f-161297bf8922"
      },
      "outputs": [
        {
          "name": "stdout",
          "output_type": "stream",
          "text": [
            "\n",
            "===== REGRESIÓN LOGÍSTICA =====\n",
            "Accuracy:    0.508\n",
            "AUC:         0.499\n",
            "Precision:   0.367\n",
            "Recall:      0.510\n",
            "F1-score:    0.427\n",
            "\n",
            "Reporte de Clasificación:\n",
            "              precision    recall  f1-score   support\n",
            "\n",
            "           0       0.65      0.51      0.57       979\n",
            "           1       0.37      0.51      0.43       549\n",
            "\n",
            "    accuracy                           0.51      1528\n",
            "   macro avg       0.51      0.51      0.50      1528\n",
            "weighted avg       0.55      0.51      0.52      1528\n",
            "\n",
            "Matriz de Confusión:\n",
            "[[496 483]\n",
            " [269 280]]\n"
          ]
        }
      ],
      "source": [
        "# Entrenar modelo con peso balanceado\n",
        "log_model = LogisticRegression(random_state=42, max_iter=1000, class_weight='balanced')\n",
        "log_model.fit(X_train_scaled, y_train)\n",
        "\n",
        "# Predicciones\n",
        "log_pred = log_model.predict(X_test_scaled)\n",
        "log_proba = log_model.predict_proba(X_test_scaled)[:, 1]\n",
        "\n",
        "# Métricas\n",
        "log_acc = accuracy_score(y_test, log_pred)\n",
        "log_auc = roc_auc_score(y_test, log_proba)\n",
        "precision = precision_score(y_test, log_pred)\n",
        "recall = recall_score(y_test, log_pred)\n",
        "f1 = f1_score(y_test, log_pred)\n",
        "\n",
        "# Mostrar resultados\n",
        "print(\"\\n===== REGRESIÓN LOGÍSTICA =====\")\n",
        "print(f\"{'Accuracy:':<12} {log_acc:.3f}\")\n",
        "print(f\"{'AUC:':<12} {log_auc:.3f}\")\n",
        "print(f\"{'Precision:':<12} {precision:.3f}\")\n",
        "print(f\"{'Recall:':<12} {recall:.3f}\")\n",
        "print(f\"{'F1-score:':<12} {f1:.3f}\")\n",
        "print(\"\\nReporte de Clasificación:\")\n",
        "print(classification_report(y_test, log_pred))\n",
        "print(\"Matriz de Confusión:\")\n",
        "print(confusion_matrix(y_test, log_pred))"
      ]
    },
    {
      "cell_type": "markdown",
      "metadata": {
        "id": "JGPWPlaZtFzL"
      },
      "source": [
        "# RANDOM FOREST 🌲🧠✨"
      ]
    },
    {
      "cell_type": "markdown",
      "metadata": {
        "id": "aFSsaB-Uv9sU"
      },
      "source": [
        "##Paso 1: Importar librerías necesarias 📦🧪"
      ]
    },
    {
      "cell_type": "code",
      "execution_count": null,
      "metadata": {
        "colab": {
          "background_save": true
        },
        "id": "5QV7daBgv-ZO"
      },
      "outputs": [],
      "source": [
        "from sklearn.ensemble import RandomForestClassifier\n",
        "from sklearn.model_selection import train_test_split\n",
        "from sklearn.metrics import (\n",
        "    accuracy_score, classification_report, confusion_matrix,\n",
        "    roc_auc_score, roc_curve\n",
        ")\n",
        "from sklearn.impute import SimpleImputer\n",
        "import matplotlib.pyplot as plt\n",
        "import pandas as pd"
      ]
    },
    {
      "cell_type": "markdown",
      "metadata": {
        "id": "ygkJLBQLwaaf"
      },
      "source": [
        "##Paso 2: Filtrar solo hombres y corregir columna 👨‍💼🧼"
      ]
    },
    {
      "cell_type": "code",
      "execution_count": null,
      "metadata": {
        "colab": {
          "background_save": true
        },
        "id": "QQScpkqfwedu"
      },
      "outputs": [],
      "source": [
        "# Filtrar solo registros con sexo masculino\n",
        "df_male = df[df['Sex'] == 'Male'].copy()\n",
        "\n",
        "# Corregir el nombre mal escrito de la columna 'diabates'\n",
        "df_male.rename(columns={\"diabates\":\"Diabetes\"}, inplace=True)"
      ]
    },
    {
      "cell_type": "markdown",
      "metadata": {
        "id": "sMJZKnctwhM5"
      },
      "source": [
        "## Paso 3: Seleccionar variables relevantes y codificar 🎯🔡➡️🔢"
      ]
    },
    {
      "cell_type": "code",
      "execution_count": null,
      "metadata": {
        "colab": {
          "background_save": true
        },
        "id": "oqoCAYw7wnVi"
      },
      "outputs": [],
      "source": [
        "# Selección de columnas a usar\n",
        "features = [\n",
        "    'Age', 'Sex', 'Cholesterol', 'Heart Rate', 'Diabetes', 'Family History',\n",
        "    'Smoking', 'Alcohol Consumption', 'Previous Heart Problems',\n",
        "    'Medication Use', 'Stress Level', 'Triglycerides',\n",
        "    'Physical Activity Days Per Week', 'Sleep Hours Per Day', 'Hemisphere',\n",
        "    'Heart Attack Risk'\n",
        "]\n",
        "\n",
        "# Subset del DataFrame\n",
        "df_model = df_male[features].copy()\n",
        "\n",
        "# Codificar variable 'Sex': Female=0, Male=1\n",
        "df_model['Sex'] = df_model['Sex'].map({'Female': 0, 'Male': 1})\n",
        "\n",
        "# Codificar variable 'Hemisphere' usando one-hot encoding\n",
        "df_model = pd.get_dummies(df_model, columns=['Hemisphere'], drop_first=True)"
      ]
    },
    {
      "cell_type": "markdown",
      "metadata": {
        "id": "-gmBwbgOwvES"
      },
      "source": [
        "## Paso 4: Preparar variables X (predictoras) e Y (objetivo) 🧩🎯📊"
      ]
    },
    {
      "cell_type": "code",
      "execution_count": null,
      "metadata": {
        "colab": {
          "background_save": true
        },
        "id": "tbfCTntsw0S9"
      },
      "outputs": [],
      "source": [
        "# Separar variables predictoras y objetivo\n",
        "X = df_model.drop('Heart Attack Risk', axis=1)\n",
        "y = df_model['Heart Attack Risk']\n",
        "\n",
        "# Imputar valores nulos con la media\n",
        "imputer = SimpleImputer(strategy=\"mean\")\n",
        "X = pd.DataFrame(imputer.fit_transform(X), columns=X.columns)\n",
        "\n",
        "# Dividir en conjunto de entrenamiento y prueba\n",
        "X_train, X_test, y_train, y_test = train_test_split(\n",
        "    X, y, test_size=0.25, random_state=42, stratify=y\n",
        ")\n"
      ]
    },
    {
      "cell_type": "markdown",
      "metadata": {
        "id": "-FYYZs7kw7Ps"
      },
      "source": [
        "## Paso 5: Entrenar y evaluar modelo Random Forest 🌲🤖📈✅"
      ]
    },
    {
      "cell_type": "code",
      "execution_count": null,
      "metadata": {
        "colab": {
          "background_save": true
        },
        "id": "b4jgIKkzw9_o",
        "outputId": "f075063b-b524-4770-9710-74c2403ec55e"
      },
      "outputs": [
        {
          "name": "stdout",
          "output_type": "stream",
          "text": [
            "\n",
            "===== RANDOM FOREST SOLO HOMBRES =====\n",
            "Accuracy:  0.639\n",
            "AUC:       0.506\n",
            "Precision: 0.459\n",
            "Recall:    0.031\n",
            "F1-score:  0.058\n",
            "Reporte de clasificación:\n",
            "              precision    recall  f1-score   support\n",
            "\n",
            "           0       0.64      0.98      0.78       979\n",
            "           1       0.46      0.03      0.06       549\n",
            "\n",
            "    accuracy                           0.64      1528\n",
            "   macro avg       0.55      0.51      0.42      1528\n",
            "weighted avg       0.58      0.64      0.52      1528\n",
            "\n",
            "Matriz de Confusión:\n",
            "[[959  20]\n",
            " [532  17]]\n"
          ]
        }
      ],
      "source": [
        "# Entrenamiento del modelo Random Forest\n",
        "rf_model = RandomForestClassifier(\n",
        "    n_estimators=200,\n",
        "    random_state=42,\n",
        "    class_weight=\"balanced\"\n",
        ")\n",
        "rf_model.fit(X_train, y_train)\n",
        "\n",
        "# Predicciones\n",
        "y_pred = rf_model.predict(X_test)\n",
        "y_proba = rf_model.predict_proba(X_test)[:, 1]\n",
        "\n",
        "# Métricas de evaluación\n",
        "acc = accuracy_score(y_test, y_pred)\n",
        "auc = roc_auc_score(y_test, y_proba)\n",
        "precision = precision_score(y_test, y_pred)\n",
        "recall = recall_score(y_test, y_pred)\n",
        "f1 = f1_score(y_test, y_pred)\n",
        "\n",
        "print(\"\\n===== RANDOM FOREST SOLO HOMBRES =====\")\n",
        "print(f\"Accuracy:  {acc:.3f}\")\n",
        "print(f\"AUC:       {auc:.3f}\")\n",
        "print(f\"Precision: {precision:.3f}\")\n",
        "print(f\"Recall:    {recall:.3f}\")\n",
        "print(f\"F1-score:  {f1:.3f}\")\n",
        "print(\"Reporte de clasificación:\")\n",
        "print(classification_report(y_test, y_pred))\n",
        "print(\"Matriz de Confusión:\")\n",
        "print(confusion_matrix(y_test, y_pred))"
      ]
    },
    {
      "cell_type": "markdown",
      "metadata": {
        "id": "nY2LN9PftbrK"
      },
      "source": [
        "# Modelo KNN (K-Nearest Neighbors) 📍👥🔍"
      ]
    },
    {
      "cell_type": "markdown",
      "metadata": {
        "id": "xhmxif1zyeuh"
      },
      "source": [
        "##Paso 1: Importar librerías necesarias 📚"
      ]
    },
    {
      "cell_type": "code",
      "execution_count": null,
      "metadata": {
        "colab": {
          "background_save": true
        },
        "id": "CEamruPryh_E"
      },
      "outputs": [],
      "source": [
        "from sklearn.neighbors import KNeighborsClassifier\n",
        "from sklearn.model_selection import train_test_split\n",
        "from sklearn.preprocessing import StandardScaler\n",
        "from sklearn.impute import SimpleImputer\n",
        "from sklearn.metrics import (\n",
        "    accuracy_score, classification_report, confusion_matrix,\n",
        "    roc_auc_score, roc_curve\n",
        ")\n",
        "import matplotlib.pyplot as plt\n",
        "import pandas as pd"
      ]
    },
    {
      "cell_type": "markdown",
      "metadata": {
        "id": "xe6JZ27eykBo"
      },
      "source": [
        "##Paso 2: Filtrar solo hombres 👨"
      ]
    },
    {
      "cell_type": "code",
      "execution_count": null,
      "metadata": {
        "colab": {
          "background_save": true
        },
        "id": "TyykH--hynl1"
      },
      "outputs": [],
      "source": [
        "# Filtrar registros masculinos\n",
        "df_male = df[df['Sex'] == 'Male'].copy()\n",
        "\n",
        "# Renombrar columna mal escrita\n",
        "df_male.rename(columns={\"diabates\":\"Diabetes\"}, inplace=True)"
      ]
    },
    {
      "cell_type": "markdown",
      "metadata": {
        "id": "U7auari8yqr0"
      },
      "source": [
        "##Paso 3: Seleccionar variables relevantes 🎯"
      ]
    },
    {
      "cell_type": "code",
      "execution_count": null,
      "metadata": {
        "colab": {
          "background_save": true
        },
        "id": "NZjHjNPhytA0"
      },
      "outputs": [],
      "source": [
        "# Lista de columnas seleccionadas\n",
        "features = [\n",
        "    'Age', 'Sex', 'Cholesterol', 'Heart Rate', 'Diabetes', 'Family History',\n",
        "    'Smoking', 'Alcohol Consumption', 'Previous Heart Problems',\n",
        "    'Medication Use', 'Stress Level', 'Triglycerides',\n",
        "    'Physical Activity Days Per Week', 'Sleep Hours Per Day', 'Hemisphere',\n",
        "    'Heart Attack Risk'\n",
        "]\n",
        "\n",
        "# Subset del DataFrame\n",
        "df_model = df_male[features].copy()\n",
        "\n",
        "# Codificación de sexo\n",
        "df_model['Sex'] = df_model['Sex'].map({'Female': 0, 'Male': 1})\n",
        "\n",
        "# Codificación de Hemisferio\n",
        "df_model = pd.get_dummies(df_model, columns=['Hemisphere'], drop_first=True)"
      ]
    },
    {
      "cell_type": "markdown",
      "metadata": {
        "id": "VEWaLvdMywLM"
      },
      "source": [
        "## Paso 4: Preparar X e y 🧪"
      ]
    },
    {
      "cell_type": "code",
      "execution_count": null,
      "metadata": {
        "colab": {
          "background_save": true
        },
        "id": "aT_X5j-Wy0Vz"
      },
      "outputs": [],
      "source": [
        "# Separar variables predictoras y variable objetivo\n",
        "X = df_model.drop('Heart Attack Risk', axis=1)\n",
        "y = df_model['Heart Attack Risk']\n",
        "\n",
        "# Imputar valores faltantes con media\n",
        "imputer = SimpleImputer(strategy=\"mean\")\n",
        "X = pd.DataFrame(imputer.fit_transform(X), columns=X.columns)\n",
        "\n",
        "# Escalar variables\n",
        "scaler = StandardScaler()\n",
        "X_scaled = scaler.fit_transform(X)\n",
        "\n",
        "# Separar en entrenamiento y prueba\n",
        "X_train, X_test, y_train, y_test = train_test_split(\n",
        "    X_scaled, y, test_size=0.25, random_state=42, stratify=y\n",
        ")"
      ]
    },
    {
      "cell_type": "markdown",
      "metadata": {
        "id": "SrMU64S0y2xq"
      },
      "source": [
        "## Paso 5: Modelo KNN 🧠"
      ]
    },
    {
      "cell_type": "code",
      "execution_count": null,
      "metadata": {
        "colab": {
          "background_save": true
        },
        "id": "-etAK0DZy5M3",
        "outputId": "3b65622c-d93e-43f5-8a23-a4a5b97c0a1e"
      },
      "outputs": [
        {
          "name": "stdout",
          "output_type": "stream",
          "text": [
            "\n",
            "===== KNN SOLO HOMBRES =====\n",
            "Accuracy:  0.580\n",
            "AUC:       0.530\n",
            "Precision: 0.379\n",
            "Recall:    0.262\n",
            "F1-score:  0.310\n",
            "\n",
            "Reporte de clasificación:\n",
            "              precision    recall  f1-score   support\n",
            "\n",
            "           0       0.65      0.76      0.70       979\n",
            "           1       0.38      0.26      0.31       549\n",
            "\n",
            "    accuracy                           0.58      1528\n",
            "   macro avg       0.51      0.51      0.50      1528\n",
            "weighted avg       0.55      0.58      0.56      1528\n",
            "\n",
            "Matriz de Confusión:\n",
            "[[743 236]\n",
            " [405 144]]\n"
          ]
        }
      ],
      "source": [
        "knn_model = KNeighborsClassifier(n_neighbors=5)\n",
        "knn_model.fit(X_train, y_train)\n",
        "\n",
        "# Predicciones\n",
        "y_pred = knn_model.predict(X_test)\n",
        "y_proba = knn_model.predict_proba(X_test)[:, 1]\n",
        "\n",
        "# Métricas individuales\n",
        "acc = accuracy_score(y_test, y_pred)\n",
        "auc = roc_auc_score(y_test, y_proba)\n",
        "precision = precision_score(y_test, y_pred)\n",
        "recall = recall_score(y_test, y_pred)\n",
        "f1 = f1_score(y_test, y_pred)\n",
        "\n",
        "# Mostrar resultados\n",
        "print(\"\\n===== KNN SOLO HOMBRES =====\")\n",
        "print(f\"Accuracy:  {acc:.3f}\")\n",
        "print(f\"AUC:       {auc:.3f}\")\n",
        "print(f\"Precision: {precision:.3f}\")\n",
        "print(f\"Recall:    {recall:.3f}\")\n",
        "print(f\"F1-score:  {f1:.3f}\")\n",
        "print(\"\\nReporte de clasificación:\")\n",
        "print(classification_report(y_test, y_pred))\n",
        "print(\"Matriz de Confusión:\")\n",
        "print(confusion_matrix(y_test, y_pred))"
      ]
    },
    {
      "cell_type": "markdown",
      "metadata": {
        "id": "RPmMWtkh5Owh"
      },
      "source": [
        "# Optimizacion"
      ]
    },
    {
      "cell_type": "markdown",
      "metadata": {
        "id": "8yFGdXee5Rtx"
      },
      "source": [
        "##Feature Selection"
      ]
    },
    {
      "cell_type": "code",
      "execution_count": null,
      "metadata": {
        "colab": {
          "background_save": true
        },
        "id": "zZ2Qic-D5UFU"
      },
      "outputs": [],
      "source": [
        "import pandas as pd\n",
        "from sklearn.ensemble import RandomForestClassifier\n",
        "from sklearn.feature_selection import SelectFromModel"
      ]
    },
    {
      "cell_type": "code",
      "execution_count": null,
      "metadata": {
        "colab": {
          "background_save": true
        },
        "id": "Pnl1kqCx66ZC"
      },
      "outputs": [],
      "source": [
        "X = df.drop(['Heart Attack Risk'], axis = 1)\n",
        "y = df['Heart Attack Risk']"
      ]
    },
    {
      "cell_type": "code",
      "execution_count": null,
      "metadata": {
        "colab": {
          "background_save": true
        },
        "id": "JnDvUhAV7ERd"
      },
      "outputs": [],
      "source": [
        "from sklearn.model_selection import train_test_split"
      ]
    },
    {
      "cell_type": "code",
      "execution_count": null,
      "metadata": {
        "colab": {
          "background_save": true
        },
        "id": "KugY0hWl7GXj"
      },
      "outputs": [],
      "source": [
        "X_train,X_test, y_train, y_test = train_test_split(X, y, test_size=0.2, random_state=0)"
      ]
    },
    {
      "cell_type": "code",
      "execution_count": null,
      "metadata": {
        "colab": {
          "background_save": true
        },
        "id": "2N7xSNIm77E2",
        "outputId": "737bc92d-40ae-44e5-a141-19917699b395"
      },
      "outputs": [
        {
          "name": "stdout",
          "output_type": "stream",
          "text": [
            "Columnas con valores no numéricos: ['Patient ID', 'Sex', 'Blood Pressure', 'Exercise Hours Per Week', 'Diet', 'Sedentary Hours Per Day', 'BMI', 'Province', 'District', 'Hemisphere', 'Marital Status']\n"
          ]
        }
      ],
      "source": [
        "non_numeric_columns = X_train.select_dtypes(include=['object']).columns\n",
        "print(\"Columnas con valores no numéricos:\", non_numeric_columns.tolist())"
      ]
    },
    {
      "cell_type": "code",
      "execution_count": null,
      "metadata": {
        "colab": {
          "background_save": true
        },
        "id": "0Hh9u7qd7_H7",
        "outputId": "952078f7-e3e3-4711-9ea6-2e21b1482522"
      },
      "outputs": [
        {
          "name": "stdout",
          "output_type": "stream",
          "text": [
            "     Patient ID     Sex Blood Pressure Exercise Hours Per Week       Diet  \\\n",
            "5286    YBS0194    Male         167/62  13.695.966.114.950.000  Unhealthy   \n",
            "1119    KLH2737  Female         143/65  48.077.817.173.686.300    Average   \n",
            "5315    FEC2399    Male         158/84  13.043.859.299.224.700  Unhealthy   \n",
            "3160    TDZ5821    Male        115/103   7.765.711.521.366.260    Average   \n",
            "6791    MTT6753    Male          90/70  18.694.085.526.099.100  Unhealthy   \n",
            "\n",
            "     Sedentary Hours Per Day                     BMI Province        District  \\\n",
            "5286     106.131.133.329.986   2.937.750.490.895.620     Lima             SJL   \n",
            "1119   4.437.020.125.726.400  23.915.853.844.364.300    Cusco           Cusco   \n",
            "5315  11.625.866.772.695.100     287.682.802.176.176     Lima             SJL   \n",
            "3160   7.719.682.318.740.700   1.964.781.692.227.390    Cusco  San SebastiÃ¡n   \n",
            "6791  11.566.199.871.610.800  27.082.342.568.738.200    Cusco   San JerÃ³nimo   \n",
            "\n",
            "               Hemisphere Marital Status  \n",
            "5286  Northern Hemisphere              C  \n",
            "1119  Northern Hemisphere              C  \n",
            "5315  Northern Hemisphere              C  \n",
            "3160  Southern Hemisphere              S  \n",
            "6791  Northern Hemisphere              S  \n"
          ]
        }
      ],
      "source": [
        "print(X_train[non_numeric_columns].head())"
      ]
    },
    {
      "cell_type": "code",
      "execution_count": null,
      "metadata": {
        "colab": {
          "background_save": true
        },
        "id": "hPXh3zqR8BvB"
      },
      "outputs": [],
      "source": [
        "X_train = X_train.drop(columns=non_numeric_columns)\n",
        "X_test = X_test.drop(columns=non_numeric_columns)"
      ]
    },
    {
      "cell_type": "code",
      "execution_count": null,
      "metadata": {
        "id": "DNY2YRG37JVy"
      },
      "outputs": [],
      "source": [
        "#se utiliza para realizar la selección de características (feature selection) en conjuntos de datos. SelectFromModel se utiliza como un clasificador de bosque aleatorio\n",
        "sel = SelectFromModel(RandomForestClassifier(n_estimators = 1000)) #, threshold=0.03)\n",
        "sel.fit(X_train, y_train)"
      ]
    },
    {
      "cell_type": "code",
      "execution_count": null,
      "metadata": {
        "id": "2HbdfG5M8KpF"
      },
      "outputs": [],
      "source": [
        "sel.get_support()"
      ]
    },
    {
      "cell_type": "code",
      "execution_count": null,
      "metadata": {
        "id": "UnYI_wXU8Ni8"
      },
      "outputs": [],
      "source": [
        "selected_feat= X_train.columns[(sel.get_support())]\n",
        "selected_feat"
      ]
    },
    {
      "cell_type": "code",
      "execution_count": null,
      "metadata": {
        "id": "mozyXmzv8Pc4"
      },
      "outputs": [],
      "source": [
        "print(len(selected_feat))"
      ]
    },
    {
      "cell_type": "code",
      "execution_count": null,
      "metadata": {
        "id": "DfKgWNLA8Sv2"
      },
      "outputs": [],
      "source": [
        "sel.estimator_.feature_importances_"
      ]
    },
    {
      "cell_type": "code",
      "execution_count": null,
      "metadata": {
        "id": "edTNpGsg8VnE"
      },
      "outputs": [],
      "source": [
        "sel.estimator_.feature_importances_.mean()"
      ]
    },
    {
      "cell_type": "code",
      "execution_count": null,
      "metadata": {
        "id": "OLQ--4eG8Xkc"
      },
      "outputs": [],
      "source": [
        "fselection = pd.DataFrame({\n",
        "    'feature': X_train.columns,\n",
        "    'importance': sel.estimator_.feature_importances_\n",
        "})\n",
        "\n",
        "# Ordenamos por importancia\n",
        "fselection.sort_values(by='importance', ascending=False, inplace=True)\n",
        "fselection"
      ]
    },
    {
      "cell_type": "markdown",
      "metadata": {
        "id": "OQn1HCXA8v75"
      },
      "source": [
        "# Hiperparametrizacion"
      ]
    },
    {
      "cell_type": "code",
      "execution_count": null,
      "metadata": {
        "id": "U9_TOkrQ9Lh4"
      },
      "outputs": [],
      "source": [
        "X = df.drop(['Heart Attack Risk'], axis = 1)\n",
        "y = df['Heart Attack Risk']"
      ]
    },
    {
      "cell_type": "code",
      "execution_count": null,
      "metadata": {
        "id": "aPJ0ovMV9RSI"
      },
      "outputs": [],
      "source": [
        "from sklearn.model_selection import train_test_split"
      ]
    },
    {
      "cell_type": "code",
      "execution_count": null,
      "metadata": {
        "id": "GoDpXLuy9T5V"
      },
      "outputs": [],
      "source": [
        "X_train,X_test, y_train, y_test = train_test_split(X, y, test_size=0.2, random_state=0)"
      ]
    },
    {
      "cell_type": "code",
      "execution_count": null,
      "metadata": {
        "id": "-gSRZJAq9VwX"
      },
      "outputs": [],
      "source": [
        "from sklearn.ensemble import RandomForestClassifier"
      ]
    },
    {
      "cell_type": "code",
      "execution_count": null,
      "metadata": {
        "id": "5TvtCqw39Xkt"
      },
      "outputs": [],
      "source": [
        "algoritmo_rf = RandomForestClassifier()"
      ]
    },
    {
      "cell_type": "code",
      "execution_count": null,
      "metadata": {
        "id": "mcLuu2n_9aMD"
      },
      "outputs": [],
      "source": [
        "grid_parameters =   { 'criterion'        : ['giny','entropy'], # Gini y entropy sirven medir la impureza de un nodo aleatoriamente\n",
        "                      'max_depth'        : [10, 14, 20], #profundidad del arbol\n",
        "                      'max_features'     : [10,20], #cantidad máxima de características que se consideran para dividir un nodo en un árbol de decisión\n",
        "                      'min_samples_leaf' : [2, 4],  #número mínimo de muestras requeridas  para formar una hoja\n",
        "                      'min_samples_split': [5, 10], #número mínimo de muestras requeridas para realizar una división en un nodo interno\n",
        "                      'n_estimators'     : [100, 500], #Crear un clasificador de bosque aleatorio con N# estimadores\n",
        "                      'n_jobs'           : [-1]} #(n_jobs) -1 para usar todos los núcleos disponibles"
      ]
    },
    {
      "cell_type": "code",
      "execution_count": null,
      "metadata": {
        "id": "aXxMHpA29iXV"
      },
      "outputs": [],
      "source": [
        "random_parameters = { 'criterion'        : ['giny','entropy'], # Gini y entropy sirven medir la impureza de un nodo aleatoriamente\n",
        "                      'max_depth'        : [5, 10, 14, 20, 30],  #profundidad del arbol\n",
        "                      'max_features'     : [10,2],  #cantidad máxima de características que se consideran para dividir un nodo en un árbol de decisión\n",
        "                      'min_samples_leaf' : [2, 4],  #número mínimo de muestras requeridas  para formar una hoja\n",
        "                      'min_samples_split': [5, 10],  #número mínimo de muestras requeridas para realizar una división en un nodo interno\n",
        "                      'n_estimators'     : [100, 500, 1000]} #Crear un clasificador de bosque aleatorio con N# estimadores"
      ]
    },
    {
      "cell_type": "code",
      "execution_count": null,
      "metadata": {
        "id": "XqKuTyRe9kph"
      },
      "outputs": [],
      "source": [
        "from sklearn.model_selection import GridSearchCV\n",
        "from sklearn.model_selection import RandomizedSearchCV"
      ]
    },
    {
      "cell_type": "code",
      "execution_count": null,
      "metadata": {
        "id": "Fhxurpsr9nWZ"
      },
      "outputs": [],
      "source": [
        "grid_search_rf = GridSearchCV(\n",
        "                                      estimator           = algoritmo_rf, #objeto con el algoritmo que se va a entrenar nuestro modelo\n",
        "                                      param_grid          = grid_parameters,\n",
        "                                      scoring             = 'roc_auc',#métrica que será evaluado para tener una mejor precisión\n",
        "                                      n_jobs              = -1,\n",
        "                                      cv                  = 3,\n",
        "                                      verbose             = 0\n",
        "                                     )"
      ]
    },
    {
      "cell_type": "code",
      "execution_count": null,
      "metadata": {
        "id": "Hm96u6yo9pKx"
      },
      "outputs": [],
      "source": [
        "random_search_rf = RandomizedSearchCV(\n",
        "                                      estimator           = algoritmo_rf,\n",
        "                                      param_distributions = random_parameters,\n",
        "                                      n_iter              = 10,\n",
        "                                      scoring             = 'roc_auc', #métrica que será evaluado para tener una mejor precisión\n",
        "                                      n_jobs              = -1,\n",
        "                                      cv                  = 3,\n",
        "                                      verbose             = 0\n",
        "                                     )"
      ]
    },
    {
      "cell_type": "markdown",
      "metadata": {
        "id": "6wFXVCwH9u1v"
      },
      "source": [
        "#GridSearch"
      ]
    },
    {
      "cell_type": "code",
      "execution_count": null,
      "metadata": {
        "id": "we4ypv9_9wtk"
      },
      "outputs": [],
      "source": [
        "non_numeric = X_train.select_dtypes(include=['object']).columns\n",
        "print(\"Columnas no numéricas:\", non_numeric.tolist())\n"
      ]
    },
    {
      "cell_type": "code",
      "execution_count": null,
      "metadata": {
        "id": "KTx9jQY5-ZKn"
      },
      "outputs": [],
      "source": [
        "X_train = X_train.drop(columns=non_numeric)\n",
        "X_test = X_test.drop(columns=non_numeric)"
      ]
    },
    {
      "cell_type": "code",
      "execution_count": null,
      "metadata": {
        "id": "qgsy4ejM-b_l"
      },
      "outputs": [],
      "source": [
        "X_train = pd.get_dummies(X_train, drop_first=True)\n",
        "X_test = pd.get_dummies(X_test, drop_first=True)\n",
        "\n",
        "# Asegurar columnas iguales en train/test\n",
        "X_test = X_test.reindex(columns=X_train.columns, fill_value=0)"
      ]
    },
    {
      "cell_type": "code",
      "execution_count": null,
      "metadata": {
        "id": "HY511T6V-e0Y"
      },
      "outputs": [],
      "source": [
        "from sklearn.model_selection import GridSearchCV\n",
        "from sklearn.ensemble import RandomForestClassifier\n",
        "\n",
        "param_grid = {\n",
        "    'n_estimators': [100, 200],\n",
        "    'criterion': ['gini', 'entropy'],  # corregido\n",
        "    'max_depth': [None, 10, 20],\n",
        "}\n",
        "\n",
        "grid_search_rf = GridSearchCV(\n",
        "    estimator=RandomForestClassifier(random_state=42),\n",
        "    param_grid=param_grid,\n",
        "    cv=5,\n",
        "    scoring='accuracy',\n",
        "    n_jobs=-1\n",
        ")\n",
        "\n",
        "# Entrenamiento con datos corregidos\n",
        "mejor_modelo_rf = grid_search_rf.fit(X_train, y_train)"
      ]
    },
    {
      "cell_type": "code",
      "execution_count": null,
      "metadata": {
        "id": "AB4Bh6ej-459"
      },
      "outputs": [],
      "source": [
        "print('Configuración de los mejores parámetros:')\n",
        "mejor_modelo_rf.best_params_"
      ]
    },
    {
      "cell_type": "code",
      "execution_count": null,
      "metadata": {
        "id": "rZc3ZSbR-6-X"
      },
      "outputs": [],
      "source": [
        "print(f'Resultado de la métrica {mejor_modelo_rf.scoring} de la mejor configuración de parámetros:')\n",
        "\n",
        "mejor_modelo_rf.best_score_"
      ]
    },
    {
      "cell_type": "code",
      "execution_count": null,
      "metadata": {
        "id": "ANZBRf5Zss9n"
      },
      "outputs": [],
      "source": [
        "from sklearn.metrics import accuracy_score, f1_score, precision_score, recall_score, roc_auc_score\n",
        "import pandas as pd\n",
        "\n",
        "# Predicciones del mejor modelo\n",
        "y_pred_rf = mejor_modelo_rf.predict(X_test)\n",
        "y_proba_rf = mejor_modelo_rf.predict_proba(X_test)[:, 1]\n",
        "\n",
        "# Cálculo de métricas\n",
        "acc_rf = accuracy_score(y_test, y_pred_rf)\n",
        "f1_rf = f1_score(y_test, y_pred_rf)\n",
        "prec_rf = precision_score(y_test, y_pred_rf)\n",
        "rec_rf = recall_score(y_test, y_pred_rf)\n",
        "auc_rf = roc_auc_score(y_test, y_proba_rf)\n",
        "\n",
        "# Guardamos en DataFrame\n",
        "results_rf_grid = pd.DataFrame(\n",
        "    [['Random Forest GridSearch', acc_rf, f1_rf, prec_rf, rec_rf, auc_rf]],\n",
        "    columns=['Model', 'Accuracy', 'F1', 'Precision', 'Recall', 'AUC']\n",
        ")\n",
        "\n",
        "# Mostramos resultados\n",
        "print(results_rf_grid)"
      ]
    },
    {
      "cell_type": "markdown",
      "metadata": {
        "id": "DQv4IjzS-_mY"
      },
      "source": [
        "# RandomSearch"
      ]
    },
    {
      "cell_type": "code",
      "execution_count": null,
      "metadata": {
        "id": "w1JX_7WL_Bym"
      },
      "outputs": [],
      "source": [
        "#Exploración Aleatoria: RandomizedSearchCV realiza una búsqueda aleatoria en el espacio de hiperparámetros. Se seleccionan un número fijo de combinaciones de hiperparámetros al azar y se evalúan mediante validación cruzada.\n",
        "#Espacio Continuo o Discreto: Es más flexible y puede manejar tanto espacios continuos como discretos de hiperparámetros.\n",
        "#Eficiente para Espacios Amplios: Puede ser más eficiente que GridSearchCV cuando el espacio de búsqueda es grande, ya que no evalúa todas las combinaciones posibles.\n",
        "\n",
        "mejor_modelo_rf = random_search_rf.fit(X_train,y_train)\n",
        "\n",
        "#print('\\nConfiguración de todos los valores del grid:')\n",
        "#mejor_modelo_rf"
      ]
    },
    {
      "cell_type": "code",
      "execution_count": null,
      "metadata": {
        "id": "rdxLvfDb_PSp"
      },
      "outputs": [],
      "source": [
        "print('Configuración de los mejores parámetros:')\n",
        "mejor_modelo_rf.best_params_"
      ]
    },
    {
      "cell_type": "code",
      "execution_count": null,
      "metadata": {
        "id": "TmI-rlHN_SGg"
      },
      "outputs": [],
      "source": [
        "print(f'Resultado de la métrica {mejor_modelo_rf.scoring} de la mejor configuración de parámetros:')\n",
        "\n",
        "mejor_modelo_rf.best_score_"
      ]
    },
    {
      "cell_type": "code",
      "execution_count": null,
      "metadata": {
        "id": "mF6W2qK5_THm"
      },
      "outputs": [],
      "source": [
        "#Modelo Final: Entrenar con los mejores parámetros a todo TRAIN\n",
        "algoritmo_rf = RandomForestClassifier(criterion='entropy', max_depth=14, max_features=2,\n",
        "                       min_samples_leaf=4, min_samples_split=5,\n",
        "                       n_estimators=100, n_jobs=-1)\n",
        "algoritmo_rf.fit(X_train, y_train)"
      ]
    },
    {
      "cell_type": "code",
      "execution_count": null,
      "metadata": {
        "id": "_JyDgN6N_WJE"
      },
      "outputs": [],
      "source": [
        "y_pred_rf_hy       = algoritmo_rf.predict(X_test)\n",
        "y_pred_rf_proba_hy = algoritmo_rf.predict_proba(X_test)\n",
        "y_pred_rf_proba_hy[:,1][:10]"
      ]
    },
    {
      "cell_type": "code",
      "execution_count": null,
      "metadata": {
        "id": "SYt_SZar_Yz9"
      },
      "outputs": [],
      "source": [
        "from sklearn.metrics import roc_auc_score,confusion_matrix,f1_score,classification_report,\\\n",
        "                            accuracy_score,precision_score,recall_score"
      ]
    },
    {
      "cell_type": "code",
      "execution_count": null,
      "metadata": {
        "id": "CRW2ED-O_aqa"
      },
      "outputs": [],
      "source": [
        "acc_rf_hy  = accuracy_score(y_test,y_pred_rf_hy)\n",
        "f1_rf_hy   = f1_score(y_test,y_pred_rf_hy)\n",
        "prec_rf_hy = precision_score(y_test, y_pred_rf_hy)\n",
        "rec_rf_hy  = recall_score(y_test, y_pred_rf_hy)\n",
        "auc_rf_hy  = roc_auc_score(y_test,y_pred_rf_proba_hy[:,1])"
      ]
    },
    {
      "cell_type": "code",
      "execution_count": null,
      "metadata": {
        "id": "XGvcz0ru_cYV"
      },
      "outputs": [],
      "source": [
        "resultsrf_hy = pd.DataFrame([['Random Forest Hyperparameters', acc_rf_hy,f1_rf_hy,prec_rf_hy,rec_rf_hy,auc_rf_hy]],\n",
        "                       columns = ['Model','Accuracy','F1','Precision','Recall','AUC'])\n",
        "resultsrf_hy"
      ]
    },
    {
      "cell_type": "code",
      "execution_count": null,
      "metadata": {
        "id": "8zntunIW_d7V"
      },
      "outputs": [],
      "source": [
        "cm_rf_hy = confusion_matrix(y_test,y_pred_rf_hy)\n",
        "print(cm_rf_hy)"
      ]
    }
  ],
  "metadata": {
    "colab": {
      "provenance": [],
      "include_colab_link": true
    },
    "kernelspec": {
      "display_name": "Python 3",
      "name": "python3"
    },
    "language_info": {
      "name": "python"
    }
  },
  "nbformat": 4,
  "nbformat_minor": 0
}